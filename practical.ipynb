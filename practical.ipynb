{
 "cells": [
  {
   "cell_type": "code",
   "execution_count": 1,
   "id": "ea9f4c9e",
   "metadata": {
    "ExecuteTime": {
     "end_time": "2022-09-03T11:32:01.866216Z",
     "start_time": "2022-09-03T11:32:01.468050Z"
    }
   },
   "outputs": [],
   "source": [
    "import pandas as pd"
   ]
  },
  {
   "cell_type": "code",
   "execution_count": 62,
   "id": "f8c30f48",
   "metadata": {
    "ExecuteTime": {
     "end_time": "2022-09-03T11:41:04.053259Z",
     "start_time": "2022-09-03T11:41:04.033024Z"
    }
   },
   "outputs": [],
   "source": [
    "df = pd.read_csv('fortune500.csv')"
   ]
  },
  {
   "cell_type": "code",
   "execution_count": 54,
   "id": "d0292983",
   "metadata": {
    "ExecuteTime": {
     "end_time": "2022-09-03T11:38:11.877051Z",
     "start_time": "2022-09-03T11:38:11.833916Z"
    }
   },
   "outputs": [
    {
     "data": {
      "text/html": [
       "<div>\n",
       "<style scoped>\n",
       "    .dataframe tbody tr th:only-of-type {\n",
       "        vertical-align: middle;\n",
       "    }\n",
       "\n",
       "    .dataframe tbody tr th {\n",
       "        vertical-align: top;\n",
       "    }\n",
       "\n",
       "    .dataframe thead th {\n",
       "        text-align: right;\n",
       "    }\n",
       "</style>\n",
       "<table border=\"1\" class=\"dataframe\">\n",
       "  <thead>\n",
       "    <tr style=\"text-align: right;\">\n",
       "      <th></th>\n",
       "      <th>lon</th>\n",
       "      <th>lat</th>\n",
       "      <th>company</th>\n",
       "      <th>location</th>\n",
       "      <th>industry</th>\n",
       "      <th>state</th>\n",
       "      <th>city</th>\n",
       "    </tr>\n",
       "  </thead>\n",
       "  <tbody>\n",
       "    <tr>\n",
       "      <th>0</th>\n",
       "      <td>-94.2088</td>\n",
       "      <td>36.3729</td>\n",
       "      <td>Walmart</td>\n",
       "      <td>Bentonville, AR</td>\n",
       "      <td>General Merchandisers</td>\n",
       "      <td>AR</td>\n",
       "      <td>Bentonville</td>\n",
       "    </tr>\n",
       "    <tr>\n",
       "      <th>1</th>\n",
       "      <td>-96.9489</td>\n",
       "      <td>32.8140</td>\n",
       "      <td>Exxon Mobil</td>\n",
       "      <td>Irving, TX</td>\n",
       "      <td>Petroleum Refining</td>\n",
       "      <td>TX</td>\n",
       "      <td>Irving</td>\n",
       "    </tr>\n",
       "    <tr>\n",
       "      <th>2</th>\n",
       "      <td>-121.9780</td>\n",
       "      <td>37.7799</td>\n",
       "      <td>Chevron</td>\n",
       "      <td>San Ramon, CA</td>\n",
       "      <td>Petroleum Refining</td>\n",
       "      <td>CA</td>\n",
       "      <td>San Ramon</td>\n",
       "    </tr>\n",
       "    <tr>\n",
       "      <th>3</th>\n",
       "      <td>-95.9980</td>\n",
       "      <td>41.2524</td>\n",
       "      <td>Berkshire Hathaway</td>\n",
       "      <td>Omaha, NE</td>\n",
       "      <td>Insurance: Property and Casualty (Stock)</td>\n",
       "      <td>NE</td>\n",
       "      <td>Omaha</td>\n",
       "    </tr>\n",
       "    <tr>\n",
       "      <th>4</th>\n",
       "      <td>-122.0320</td>\n",
       "      <td>37.3230</td>\n",
       "      <td>Apple</td>\n",
       "      <td>Cupertino, CA</td>\n",
       "      <td>Computers, Office Equipment</td>\n",
       "      <td>CA</td>\n",
       "      <td>Cupertino</td>\n",
       "    </tr>\n",
       "    <tr>\n",
       "      <th>...</th>\n",
       "      <td>...</td>\n",
       "      <td>...</td>\n",
       "      <td>...</td>\n",
       "      <td>...</td>\n",
       "      <td>...</td>\n",
       "      <td>...</td>\n",
       "      <td>...</td>\n",
       "    </tr>\n",
       "    <tr>\n",
       "      <th>995</th>\n",
       "      <td>-73.7629</td>\n",
       "      <td>41.0340</td>\n",
       "      <td>Universal American</td>\n",
       "      <td>White Plains, NY</td>\n",
       "      <td>Health Care: Insurance and Managed Care</td>\n",
       "      <td>NY</td>\n",
       "      <td>White Plains</td>\n",
       "    </tr>\n",
       "    <tr>\n",
       "      <th>996</th>\n",
       "      <td>-87.9790</td>\n",
       "      <td>41.9634</td>\n",
       "      <td>AAR</td>\n",
       "      <td>Wood Dale, IL</td>\n",
       "      <td>Aerospace and Defense</td>\n",
       "      <td>IL</td>\n",
       "      <td>Wood Dale</td>\n",
       "    </tr>\n",
       "    <tr>\n",
       "      <th>997</th>\n",
       "      <td>-74.7524</td>\n",
       "      <td>41.1465</td>\n",
       "      <td>Selective Insurance Group</td>\n",
       "      <td>Branchville, NJ</td>\n",
       "      <td>Insurance: Property and Casualty (Stock)</td>\n",
       "      <td>NJ</td>\n",
       "      <td>Branchville</td>\n",
       "    </tr>\n",
       "    <tr>\n",
       "      <th>998</th>\n",
       "      <td>-73.5387</td>\n",
       "      <td>41.0534</td>\n",
       "      <td>Gartner</td>\n",
       "      <td>Stamford, CT</td>\n",
       "      <td>Information Technology Services</td>\n",
       "      <td>CT</td>\n",
       "      <td>Stamford</td>\n",
       "    </tr>\n",
       "    <tr>\n",
       "      <th>999</th>\n",
       "      <td>-74.0059</td>\n",
       "      <td>40.7128</td>\n",
       "      <td>E*Trade Financial</td>\n",
       "      <td>New York, NY</td>\n",
       "      <td>Securities</td>\n",
       "      <td>NY</td>\n",
       "      <td>New York</td>\n",
       "    </tr>\n",
       "  </tbody>\n",
       "</table>\n",
       "<p>1000 rows × 7 columns</p>\n",
       "</div>"
      ],
      "text/plain": [
       "          lon      lat                    company          location  \\\n",
       "0    -94.2088  36.3729                    Walmart   Bentonville, AR   \n",
       "1    -96.9489  32.8140                Exxon Mobil        Irving, TX   \n",
       "2   -121.9780  37.7799                    Chevron     San Ramon, CA   \n",
       "3    -95.9980  41.2524         Berkshire Hathaway         Omaha, NE   \n",
       "4   -122.0320  37.3230                      Apple     Cupertino, CA   \n",
       "..        ...      ...                        ...               ...   \n",
       "995  -73.7629  41.0340         Universal American  White Plains, NY   \n",
       "996  -87.9790  41.9634                        AAR     Wood Dale, IL   \n",
       "997  -74.7524  41.1465  Selective Insurance Group   Branchville, NJ   \n",
       "998  -73.5387  41.0534                    Gartner      Stamford, CT   \n",
       "999  -74.0059  40.7128          E*Trade Financial      New York, NY   \n",
       "\n",
       "                                     industry state          city  \n",
       "0                       General Merchandisers    AR   Bentonville  \n",
       "1                          Petroleum Refining    TX        Irving  \n",
       "2                          Petroleum Refining    CA     San Ramon  \n",
       "3    Insurance: Property and Casualty (Stock)    NE         Omaha  \n",
       "4                 Computers, Office Equipment    CA     Cupertino  \n",
       "..                                        ...   ...           ...  \n",
       "995   Health Care: Insurance and Managed Care    NY  White Plains  \n",
       "996                     Aerospace and Defense    IL     Wood Dale  \n",
       "997  Insurance: Property and Casualty (Stock)    NJ   Branchville  \n",
       "998           Information Technology Services    CT      Stamford  \n",
       "999                                Securities    NY      New York  \n",
       "\n",
       "[1000 rows x 7 columns]"
      ]
     },
     "execution_count": 54,
     "metadata": {},
     "output_type": "execute_result"
    }
   ],
   "source": [
    "df"
   ]
  },
  {
   "cell_type": "code",
   "execution_count": 4,
   "id": "f499235b",
   "metadata": {
    "ExecuteTime": {
     "end_time": "2022-09-03T11:32:04.263678Z",
     "start_time": "2022-09-03T11:32:04.230418Z"
    }
   },
   "outputs": [
    {
     "data": {
      "text/html": [
       "<div>\n",
       "<style scoped>\n",
       "    .dataframe tbody tr th:only-of-type {\n",
       "        vertical-align: middle;\n",
       "    }\n",
       "\n",
       "    .dataframe tbody tr th {\n",
       "        vertical-align: top;\n",
       "    }\n",
       "\n",
       "    .dataframe thead th {\n",
       "        text-align: right;\n",
       "    }\n",
       "</style>\n",
       "<table border=\"1\" class=\"dataframe\">\n",
       "  <thead>\n",
       "    <tr style=\"text-align: right;\">\n",
       "      <th></th>\n",
       "      <th>lon</th>\n",
       "      <th>lat</th>\n",
       "      <th>company</th>\n",
       "      <th>location</th>\n",
       "      <th>industry</th>\n",
       "      <th>state</th>\n",
       "      <th>city</th>\n",
       "    </tr>\n",
       "  </thead>\n",
       "  <tbody>\n",
       "    <tr>\n",
       "      <th>0</th>\n",
       "      <td>-94.2088</td>\n",
       "      <td>36.3729</td>\n",
       "      <td>Walmart</td>\n",
       "      <td>Bentonville, AR</td>\n",
       "      <td>General Merchandisers</td>\n",
       "      <td>AR</td>\n",
       "      <td>Bentonville</td>\n",
       "    </tr>\n",
       "    <tr>\n",
       "      <th>1</th>\n",
       "      <td>-96.9489</td>\n",
       "      <td>32.8140</td>\n",
       "      <td>Exxon Mobil</td>\n",
       "      <td>Irving, TX</td>\n",
       "      <td>Petroleum Refining</td>\n",
       "      <td>TX</td>\n",
       "      <td>Irving</td>\n",
       "    </tr>\n",
       "    <tr>\n",
       "      <th>2</th>\n",
       "      <td>-121.9780</td>\n",
       "      <td>37.7799</td>\n",
       "      <td>Chevron</td>\n",
       "      <td>San Ramon, CA</td>\n",
       "      <td>Petroleum Refining</td>\n",
       "      <td>CA</td>\n",
       "      <td>San Ramon</td>\n",
       "    </tr>\n",
       "    <tr>\n",
       "      <th>3</th>\n",
       "      <td>-95.9980</td>\n",
       "      <td>41.2524</td>\n",
       "      <td>Berkshire Hathaway</td>\n",
       "      <td>Omaha, NE</td>\n",
       "      <td>Insurance: Property and Casualty (Stock)</td>\n",
       "      <td>NE</td>\n",
       "      <td>Omaha</td>\n",
       "    </tr>\n",
       "    <tr>\n",
       "      <th>4</th>\n",
       "      <td>-122.0320</td>\n",
       "      <td>37.3230</td>\n",
       "      <td>Apple</td>\n",
       "      <td>Cupertino, CA</td>\n",
       "      <td>Computers, Office Equipment</td>\n",
       "      <td>CA</td>\n",
       "      <td>Cupertino</td>\n",
       "    </tr>\n",
       "  </tbody>\n",
       "</table>\n",
       "</div>"
      ],
      "text/plain": [
       "        lon      lat             company         location  \\\n",
       "0  -94.2088  36.3729             Walmart  Bentonville, AR   \n",
       "1  -96.9489  32.8140         Exxon Mobil       Irving, TX   \n",
       "2 -121.9780  37.7799             Chevron    San Ramon, CA   \n",
       "3  -95.9980  41.2524  Berkshire Hathaway        Omaha, NE   \n",
       "4 -122.0320  37.3230               Apple    Cupertino, CA   \n",
       "\n",
       "                                   industry state         city  \n",
       "0                     General Merchandisers    AR  Bentonville  \n",
       "1                        Petroleum Refining    TX       Irving  \n",
       "2                        Petroleum Refining    CA    San Ramon  \n",
       "3  Insurance: Property and Casualty (Stock)    NE        Omaha  \n",
       "4               Computers, Office Equipment    CA    Cupertino  "
      ]
     },
     "execution_count": 4,
     "metadata": {},
     "output_type": "execute_result"
    }
   ],
   "source": [
    "df.head()"
   ]
  },
  {
   "cell_type": "code",
   "execution_count": 5,
   "id": "8c43c3ec",
   "metadata": {
    "ExecuteTime": {
     "end_time": "2022-09-03T11:32:11.534233Z",
     "start_time": "2022-09-03T11:32:11.478381Z"
    }
   },
   "outputs": [
    {
     "data": {
      "text/html": [
       "<div>\n",
       "<style scoped>\n",
       "    .dataframe tbody tr th:only-of-type {\n",
       "        vertical-align: middle;\n",
       "    }\n",
       "\n",
       "    .dataframe tbody tr th {\n",
       "        vertical-align: top;\n",
       "    }\n",
       "\n",
       "    .dataframe thead th {\n",
       "        text-align: right;\n",
       "    }\n",
       "</style>\n",
       "<table border=\"1\" class=\"dataframe\">\n",
       "  <thead>\n",
       "    <tr style=\"text-align: right;\">\n",
       "      <th></th>\n",
       "      <th>lon</th>\n",
       "      <th>lat</th>\n",
       "      <th>company</th>\n",
       "      <th>location</th>\n",
       "      <th>industry</th>\n",
       "      <th>state</th>\n",
       "      <th>city</th>\n",
       "    </tr>\n",
       "  </thead>\n",
       "  <tbody>\n",
       "    <tr>\n",
       "      <th>0</th>\n",
       "      <td>-94.2088</td>\n",
       "      <td>36.3729</td>\n",
       "      <td>Walmart</td>\n",
       "      <td>Bentonville, AR</td>\n",
       "      <td>General Merchandisers</td>\n",
       "      <td>AR</td>\n",
       "      <td>Bentonville</td>\n",
       "    </tr>\n",
       "    <tr>\n",
       "      <th>1</th>\n",
       "      <td>-96.9489</td>\n",
       "      <td>32.8140</td>\n",
       "      <td>Exxon Mobil</td>\n",
       "      <td>Irving, TX</td>\n",
       "      <td>Petroleum Refining</td>\n",
       "      <td>TX</td>\n",
       "      <td>Irving</td>\n",
       "    </tr>\n",
       "    <tr>\n",
       "      <th>2</th>\n",
       "      <td>-121.9780</td>\n",
       "      <td>37.7799</td>\n",
       "      <td>Chevron</td>\n",
       "      <td>San Ramon, CA</td>\n",
       "      <td>Petroleum Refining</td>\n",
       "      <td>CA</td>\n",
       "      <td>San Ramon</td>\n",
       "    </tr>\n",
       "    <tr>\n",
       "      <th>3</th>\n",
       "      <td>-95.9980</td>\n",
       "      <td>41.2524</td>\n",
       "      <td>Berkshire Hathaway</td>\n",
       "      <td>Omaha, NE</td>\n",
       "      <td>Insurance: Property and Casualty (Stock)</td>\n",
       "      <td>NE</td>\n",
       "      <td>Omaha</td>\n",
       "    </tr>\n",
       "    <tr>\n",
       "      <th>4</th>\n",
       "      <td>-122.0320</td>\n",
       "      <td>37.3230</td>\n",
       "      <td>Apple</td>\n",
       "      <td>Cupertino, CA</td>\n",
       "      <td>Computers, Office Equipment</td>\n",
       "      <td>CA</td>\n",
       "      <td>Cupertino</td>\n",
       "    </tr>\n",
       "    <tr>\n",
       "      <th>5</th>\n",
       "      <td>-83.0458</td>\n",
       "      <td>42.3314</td>\n",
       "      <td>General Motors</td>\n",
       "      <td>Detroit, MI</td>\n",
       "      <td>Motor Vehicles and Parts</td>\n",
       "      <td>MI</td>\n",
       "      <td>Detroit</td>\n",
       "    </tr>\n",
       "    <tr>\n",
       "      <th>6</th>\n",
       "      <td>-95.3698</td>\n",
       "      <td>29.7604</td>\n",
       "      <td>Phillips 66</td>\n",
       "      <td>Houston, TX</td>\n",
       "      <td>Petroleum Refining</td>\n",
       "      <td>TX</td>\n",
       "      <td>Houston</td>\n",
       "    </tr>\n",
       "    <tr>\n",
       "      <th>7</th>\n",
       "      <td>-73.2613</td>\n",
       "      <td>41.1408</td>\n",
       "      <td>General Electric</td>\n",
       "      <td>Fairfield, CT</td>\n",
       "      <td>Diversified Financials</td>\n",
       "      <td>CT</td>\n",
       "      <td>Fairfield</td>\n",
       "    </tr>\n",
       "    <tr>\n",
       "      <th>8</th>\n",
       "      <td>-83.1763</td>\n",
       "      <td>42.3223</td>\n",
       "      <td>Ford Motor</td>\n",
       "      <td>Dearborn, MI</td>\n",
       "      <td>Motor Vehicles and Parts</td>\n",
       "      <td>MI</td>\n",
       "      <td>Dearborn</td>\n",
       "    </tr>\n",
       "    <tr>\n",
       "      <th>9</th>\n",
       "      <td>-71.5148</td>\n",
       "      <td>42.0029</td>\n",
       "      <td>CVS Health</td>\n",
       "      <td>Woonsocket, RI</td>\n",
       "      <td>Food and Drug Stores</td>\n",
       "      <td>RI</td>\n",
       "      <td>Woonsocket</td>\n",
       "    </tr>\n",
       "    <tr>\n",
       "      <th>10</th>\n",
       "      <td>-122.4190</td>\n",
       "      <td>37.7749</td>\n",
       "      <td>McKesson</td>\n",
       "      <td>San Francisco, CA</td>\n",
       "      <td>Wholesalers: Health Care</td>\n",
       "      <td>CA</td>\n",
       "      <td>San Francisco</td>\n",
       "    </tr>\n",
       "    <tr>\n",
       "      <th>11</th>\n",
       "      <td>-96.7970</td>\n",
       "      <td>32.7767</td>\n",
       "      <td>AT&amp;T</td>\n",
       "      <td>Dallas, TX</td>\n",
       "      <td>Telecommunications</td>\n",
       "      <td>TX</td>\n",
       "      <td>Dallas</td>\n",
       "    </tr>\n",
       "    <tr>\n",
       "      <th>12</th>\n",
       "      <td>-98.4936</td>\n",
       "      <td>29.4241</td>\n",
       "      <td>Valero Energy</td>\n",
       "      <td>San Antonio, TX</td>\n",
       "      <td>Petroleum Refining</td>\n",
       "      <td>TX</td>\n",
       "      <td>San Antonio</td>\n",
       "    </tr>\n",
       "    <tr>\n",
       "      <th>13</th>\n",
       "      <td>-93.4687</td>\n",
       "      <td>44.9212</td>\n",
       "      <td>UnitedHealth Group</td>\n",
       "      <td>Minnetonka, MN</td>\n",
       "      <td>Health Care: Insurance and Managed Care</td>\n",
       "      <td>MN</td>\n",
       "      <td>Minnetonka</td>\n",
       "    </tr>\n",
       "    <tr>\n",
       "      <th>14</th>\n",
       "      <td>-74.0059</td>\n",
       "      <td>40.7128</td>\n",
       "      <td>Verizon</td>\n",
       "      <td>New York, NY</td>\n",
       "      <td>Telecommunications</td>\n",
       "      <td>NY</td>\n",
       "      <td>New York</td>\n",
       "    </tr>\n",
       "    <tr>\n",
       "      <th>15</th>\n",
       "      <td>-75.4591</td>\n",
       "      <td>40.0757</td>\n",
       "      <td>AmerisourceBergen</td>\n",
       "      <td>Chesterbrook, PA</td>\n",
       "      <td>Wholesalers: Health Care</td>\n",
       "      <td>PA</td>\n",
       "      <td>Chesterbrook</td>\n",
       "    </tr>\n",
       "    <tr>\n",
       "      <th>16</th>\n",
       "      <td>-77.0369</td>\n",
       "      <td>38.9072</td>\n",
       "      <td>Fannie Mae</td>\n",
       "      <td>Washington, DC</td>\n",
       "      <td>Diversified Financials</td>\n",
       "      <td>DC</td>\n",
       "      <td>Washington</td>\n",
       "    </tr>\n",
       "    <tr>\n",
       "      <th>17</th>\n",
       "      <td>-122.0330</td>\n",
       "      <td>47.5301</td>\n",
       "      <td>Costco</td>\n",
       "      <td>Issaquah, WA</td>\n",
       "      <td>Specialty Retailers: Other</td>\n",
       "      <td>WA</td>\n",
       "      <td>Issaquah</td>\n",
       "    </tr>\n",
       "    <tr>\n",
       "      <th>18</th>\n",
       "      <td>-122.1430</td>\n",
       "      <td>37.4419</td>\n",
       "      <td>HP</td>\n",
       "      <td>Palo Alto, CA</td>\n",
       "      <td>Computers, Office Equipment</td>\n",
       "      <td>CA</td>\n",
       "      <td>Palo Alto</td>\n",
       "    </tr>\n",
       "    <tr>\n",
       "      <th>19</th>\n",
       "      <td>-84.5120</td>\n",
       "      <td>39.1031</td>\n",
       "      <td>Kroger</td>\n",
       "      <td>Cincinnati, OH</td>\n",
       "      <td>Food and Drug Stores</td>\n",
       "      <td>OH</td>\n",
       "      <td>Cincinnati</td>\n",
       "    </tr>\n",
       "  </tbody>\n",
       "</table>\n",
       "</div>"
      ],
      "text/plain": [
       "         lon      lat             company           location  \\\n",
       "0   -94.2088  36.3729             Walmart    Bentonville, AR   \n",
       "1   -96.9489  32.8140         Exxon Mobil         Irving, TX   \n",
       "2  -121.9780  37.7799             Chevron      San Ramon, CA   \n",
       "3   -95.9980  41.2524  Berkshire Hathaway          Omaha, NE   \n",
       "4  -122.0320  37.3230               Apple      Cupertino, CA   \n",
       "5   -83.0458  42.3314      General Motors        Detroit, MI   \n",
       "6   -95.3698  29.7604         Phillips 66        Houston, TX   \n",
       "7   -73.2613  41.1408    General Electric      Fairfield, CT   \n",
       "8   -83.1763  42.3223          Ford Motor       Dearborn, MI   \n",
       "9   -71.5148  42.0029          CVS Health     Woonsocket, RI   \n",
       "10 -122.4190  37.7749            McKesson  San Francisco, CA   \n",
       "11  -96.7970  32.7767                AT&T         Dallas, TX   \n",
       "12  -98.4936  29.4241       Valero Energy    San Antonio, TX   \n",
       "13  -93.4687  44.9212  UnitedHealth Group     Minnetonka, MN   \n",
       "14  -74.0059  40.7128             Verizon       New York, NY   \n",
       "15  -75.4591  40.0757   AmerisourceBergen   Chesterbrook, PA   \n",
       "16  -77.0369  38.9072          Fannie Mae     Washington, DC   \n",
       "17 -122.0330  47.5301              Costco       Issaquah, WA   \n",
       "18 -122.1430  37.4419                  HP      Palo Alto, CA   \n",
       "19  -84.5120  39.1031              Kroger     Cincinnati, OH   \n",
       "\n",
       "                                    industry state           city  \n",
       "0                      General Merchandisers    AR    Bentonville  \n",
       "1                         Petroleum Refining    TX         Irving  \n",
       "2                         Petroleum Refining    CA      San Ramon  \n",
       "3   Insurance: Property and Casualty (Stock)    NE          Omaha  \n",
       "4                Computers, Office Equipment    CA      Cupertino  \n",
       "5                   Motor Vehicles and Parts    MI        Detroit  \n",
       "6                         Petroleum Refining    TX        Houston  \n",
       "7                     Diversified Financials    CT      Fairfield  \n",
       "8                   Motor Vehicles and Parts    MI       Dearborn  \n",
       "9                       Food and Drug Stores    RI     Woonsocket  \n",
       "10                  Wholesalers: Health Care    CA  San Francisco  \n",
       "11                        Telecommunications    TX         Dallas  \n",
       "12                        Petroleum Refining    TX    San Antonio  \n",
       "13   Health Care: Insurance and Managed Care    MN     Minnetonka  \n",
       "14                        Telecommunications    NY       New York  \n",
       "15                  Wholesalers: Health Care    PA   Chesterbrook  \n",
       "16                    Diversified Financials    DC     Washington  \n",
       "17                Specialty Retailers: Other    WA       Issaquah  \n",
       "18               Computers, Office Equipment    CA      Palo Alto  \n",
       "19                      Food and Drug Stores    OH     Cincinnati  "
      ]
     },
     "execution_count": 5,
     "metadata": {},
     "output_type": "execute_result"
    }
   ],
   "source": [
    "df.head(20)"
   ]
  },
  {
   "cell_type": "code",
   "execution_count": 6,
   "id": "72b82212",
   "metadata": {
    "ExecuteTime": {
     "end_time": "2022-09-03T11:32:12.810253Z",
     "start_time": "2022-09-03T11:32:12.740375Z"
    }
   },
   "outputs": [
    {
     "data": {
      "text/html": [
       "<div>\n",
       "<style scoped>\n",
       "    .dataframe tbody tr th:only-of-type {\n",
       "        vertical-align: middle;\n",
       "    }\n",
       "\n",
       "    .dataframe tbody tr th {\n",
       "        vertical-align: top;\n",
       "    }\n",
       "\n",
       "    .dataframe thead th {\n",
       "        text-align: right;\n",
       "    }\n",
       "</style>\n",
       "<table border=\"1\" class=\"dataframe\">\n",
       "  <thead>\n",
       "    <tr style=\"text-align: right;\">\n",
       "      <th></th>\n",
       "      <th>lon</th>\n",
       "      <th>lat</th>\n",
       "      <th>company</th>\n",
       "      <th>location</th>\n",
       "      <th>industry</th>\n",
       "      <th>state</th>\n",
       "      <th>city</th>\n",
       "    </tr>\n",
       "  </thead>\n",
       "  <tbody>\n",
       "    <tr>\n",
       "      <th>980</th>\n",
       "      <td>-74.0059</td>\n",
       "      <td>40.7128</td>\n",
       "      <td>RCS Capital</td>\n",
       "      <td>New York, NY</td>\n",
       "      <td>Securities</td>\n",
       "      <td>NY</td>\n",
       "      <td>New York</td>\n",
       "    </tr>\n",
       "    <tr>\n",
       "      <th>981</th>\n",
       "      <td>-122.6760</td>\n",
       "      <td>45.5231</td>\n",
       "      <td>Columbia Sportswear</td>\n",
       "      <td>Portland, OR</td>\n",
       "      <td>Apparel</td>\n",
       "      <td>OR</td>\n",
       "      <td>Portland</td>\n",
       "    </tr>\n",
       "    <tr>\n",
       "      <th>982</th>\n",
       "      <td>-71.4418</td>\n",
       "      <td>41.9110</td>\n",
       "      <td>Amica Mutual Insurance</td>\n",
       "      <td>Lincoln, RI</td>\n",
       "      <td>Insurance: Property and Casualty (Mutual)</td>\n",
       "      <td>RI</td>\n",
       "      <td>Lincoln</td>\n",
       "    </tr>\n",
       "    <tr>\n",
       "      <th>983</th>\n",
       "      <td>-96.7970</td>\n",
       "      <td>32.7767</td>\n",
       "      <td>Primoris Services</td>\n",
       "      <td>Dallas, TX</td>\n",
       "      <td>Engineering, Construction</td>\n",
       "      <td>TX</td>\n",
       "      <td>Dallas</td>\n",
       "    </tr>\n",
       "    <tr>\n",
       "      <th>984</th>\n",
       "      <td>-86.8025</td>\n",
       "      <td>33.5207</td>\n",
       "      <td>Energen</td>\n",
       "      <td>Birmingham, AL</td>\n",
       "      <td>Mining, Crude-Oil Production</td>\n",
       "      <td>AL</td>\n",
       "      <td>Birmingham</td>\n",
       "    </tr>\n",
       "    <tr>\n",
       "      <th>985</th>\n",
       "      <td>-87.9065</td>\n",
       "      <td>43.0389</td>\n",
       "      <td>Rexnord</td>\n",
       "      <td>Milwaukee, WI</td>\n",
       "      <td>Industrial Machinery</td>\n",
       "      <td>WI</td>\n",
       "      <td>Milwaukee</td>\n",
       "    </tr>\n",
       "    <tr>\n",
       "      <th>986</th>\n",
       "      <td>-97.5164</td>\n",
       "      <td>35.4676</td>\n",
       "      <td>Seventy Seven Energy</td>\n",
       "      <td>Oklahoma City, OK</td>\n",
       "      <td>Oil and Gas Equipment, Services</td>\n",
       "      <td>OK</td>\n",
       "      <td>Oklahoma City</td>\n",
       "    </tr>\n",
       "    <tr>\n",
       "      <th>987</th>\n",
       "      <td>-95.4613</td>\n",
       "      <td>30.1658</td>\n",
       "      <td>Waste Connections</td>\n",
       "      <td>The Woodlands, TX</td>\n",
       "      <td>Waste Management</td>\n",
       "      <td>TX</td>\n",
       "      <td>The Woodlands</td>\n",
       "    </tr>\n",
       "    <tr>\n",
       "      <th>988</th>\n",
       "      <td>-75.1652</td>\n",
       "      <td>39.9526</td>\n",
       "      <td>Pep Boys-Manny, Moe &amp; Jack</td>\n",
       "      <td>Philadelphia, PA</td>\n",
       "      <td>Specialty Retailers: Other</td>\n",
       "      <td>PA</td>\n",
       "      <td>Philadelphia</td>\n",
       "    </tr>\n",
       "    <tr>\n",
       "      <th>989</th>\n",
       "      <td>-76.9200</td>\n",
       "      <td>40.2398</td>\n",
       "      <td>Harsco</td>\n",
       "      <td>Camp Hill, PA</td>\n",
       "      <td>Metals</td>\n",
       "      <td>PA</td>\n",
       "      <td>Camp Hill</td>\n",
       "    </tr>\n",
       "    <tr>\n",
       "      <th>990</th>\n",
       "      <td>-74.0643</td>\n",
       "      <td>40.3471</td>\n",
       "      <td>Hovnanian Enterprises</td>\n",
       "      <td>Red Bank, NJ</td>\n",
       "      <td>Homebuilders</td>\n",
       "      <td>NJ</td>\n",
       "      <td>Red Bank</td>\n",
       "    </tr>\n",
       "    <tr>\n",
       "      <th>991</th>\n",
       "      <td>-95.3698</td>\n",
       "      <td>29.7604</td>\n",
       "      <td>Willbros Group</td>\n",
       "      <td>Houston, TX</td>\n",
       "      <td>Oil and Gas Equipment, Services</td>\n",
       "      <td>TX</td>\n",
       "      <td>Houston</td>\n",
       "    </tr>\n",
       "    <tr>\n",
       "      <th>992</th>\n",
       "      <td>-83.1141</td>\n",
       "      <td>40.0992</td>\n",
       "      <td>Wendy's</td>\n",
       "      <td>Dublin, OH</td>\n",
       "      <td>Food Services</td>\n",
       "      <td>OH</td>\n",
       "      <td>Dublin</td>\n",
       "    </tr>\n",
       "    <tr>\n",
       "      <th>993</th>\n",
       "      <td>-115.1400</td>\n",
       "      <td>36.1699</td>\n",
       "      <td>International Game Technology</td>\n",
       "      <td>Las Vegas, NV</td>\n",
       "      <td>Industrial Machinery</td>\n",
       "      <td>NV</td>\n",
       "      <td>Las Vegas</td>\n",
       "    </tr>\n",
       "    <tr>\n",
       "      <th>994</th>\n",
       "      <td>-122.0840</td>\n",
       "      <td>37.3861</td>\n",
       "      <td>Synopsys</td>\n",
       "      <td>Mountain View, CA</td>\n",
       "      <td>Computer Software</td>\n",
       "      <td>CA</td>\n",
       "      <td>Mountain View</td>\n",
       "    </tr>\n",
       "    <tr>\n",
       "      <th>995</th>\n",
       "      <td>-73.7629</td>\n",
       "      <td>41.0340</td>\n",
       "      <td>Universal American</td>\n",
       "      <td>White Plains, NY</td>\n",
       "      <td>Health Care: Insurance and Managed Care</td>\n",
       "      <td>NY</td>\n",
       "      <td>White Plains</td>\n",
       "    </tr>\n",
       "    <tr>\n",
       "      <th>996</th>\n",
       "      <td>-87.9790</td>\n",
       "      <td>41.9634</td>\n",
       "      <td>AAR</td>\n",
       "      <td>Wood Dale, IL</td>\n",
       "      <td>Aerospace and Defense</td>\n",
       "      <td>IL</td>\n",
       "      <td>Wood Dale</td>\n",
       "    </tr>\n",
       "    <tr>\n",
       "      <th>997</th>\n",
       "      <td>-74.7524</td>\n",
       "      <td>41.1465</td>\n",
       "      <td>Selective Insurance Group</td>\n",
       "      <td>Branchville, NJ</td>\n",
       "      <td>Insurance: Property and Casualty (Stock)</td>\n",
       "      <td>NJ</td>\n",
       "      <td>Branchville</td>\n",
       "    </tr>\n",
       "    <tr>\n",
       "      <th>998</th>\n",
       "      <td>-73.5387</td>\n",
       "      <td>41.0534</td>\n",
       "      <td>Gartner</td>\n",
       "      <td>Stamford, CT</td>\n",
       "      <td>Information Technology Services</td>\n",
       "      <td>CT</td>\n",
       "      <td>Stamford</td>\n",
       "    </tr>\n",
       "    <tr>\n",
       "      <th>999</th>\n",
       "      <td>-74.0059</td>\n",
       "      <td>40.7128</td>\n",
       "      <td>E*Trade Financial</td>\n",
       "      <td>New York, NY</td>\n",
       "      <td>Securities</td>\n",
       "      <td>NY</td>\n",
       "      <td>New York</td>\n",
       "    </tr>\n",
       "  </tbody>\n",
       "</table>\n",
       "</div>"
      ],
      "text/plain": [
       "          lon      lat                        company           location  \\\n",
       "980  -74.0059  40.7128                    RCS Capital       New York, NY   \n",
       "981 -122.6760  45.5231            Columbia Sportswear       Portland, OR   \n",
       "982  -71.4418  41.9110         Amica Mutual Insurance        Lincoln, RI   \n",
       "983  -96.7970  32.7767              Primoris Services         Dallas, TX   \n",
       "984  -86.8025  33.5207                        Energen     Birmingham, AL   \n",
       "985  -87.9065  43.0389                        Rexnord      Milwaukee, WI   \n",
       "986  -97.5164  35.4676           Seventy Seven Energy  Oklahoma City, OK   \n",
       "987  -95.4613  30.1658              Waste Connections  The Woodlands, TX   \n",
       "988  -75.1652  39.9526     Pep Boys-Manny, Moe & Jack   Philadelphia, PA   \n",
       "989  -76.9200  40.2398                         Harsco      Camp Hill, PA   \n",
       "990  -74.0643  40.3471          Hovnanian Enterprises       Red Bank, NJ   \n",
       "991  -95.3698  29.7604                 Willbros Group        Houston, TX   \n",
       "992  -83.1141  40.0992                        Wendy's         Dublin, OH   \n",
       "993 -115.1400  36.1699  International Game Technology      Las Vegas, NV   \n",
       "994 -122.0840  37.3861                       Synopsys  Mountain View, CA   \n",
       "995  -73.7629  41.0340             Universal American   White Plains, NY   \n",
       "996  -87.9790  41.9634                            AAR      Wood Dale, IL   \n",
       "997  -74.7524  41.1465      Selective Insurance Group    Branchville, NJ   \n",
       "998  -73.5387  41.0534                        Gartner       Stamford, CT   \n",
       "999  -74.0059  40.7128              E*Trade Financial       New York, NY   \n",
       "\n",
       "                                      industry state           city  \n",
       "980                                 Securities    NY       New York  \n",
       "981                                    Apparel    OR       Portland  \n",
       "982  Insurance: Property and Casualty (Mutual)    RI        Lincoln  \n",
       "983                  Engineering, Construction    TX         Dallas  \n",
       "984               Mining, Crude-Oil Production    AL     Birmingham  \n",
       "985                       Industrial Machinery    WI      Milwaukee  \n",
       "986            Oil and Gas Equipment, Services    OK  Oklahoma City  \n",
       "987                           Waste Management    TX  The Woodlands  \n",
       "988                 Specialty Retailers: Other    PA   Philadelphia  \n",
       "989                                     Metals    PA      Camp Hill  \n",
       "990                               Homebuilders    NJ       Red Bank  \n",
       "991            Oil and Gas Equipment, Services    TX        Houston  \n",
       "992                              Food Services    OH         Dublin  \n",
       "993                       Industrial Machinery    NV      Las Vegas  \n",
       "994                          Computer Software    CA  Mountain View  \n",
       "995    Health Care: Insurance and Managed Care    NY   White Plains  \n",
       "996                      Aerospace and Defense    IL      Wood Dale  \n",
       "997   Insurance: Property and Casualty (Stock)    NJ    Branchville  \n",
       "998            Information Technology Services    CT       Stamford  \n",
       "999                                 Securities    NY       New York  "
      ]
     },
     "execution_count": 6,
     "metadata": {},
     "output_type": "execute_result"
    }
   ],
   "source": [
    "df.tail(20)"
   ]
  },
  {
   "cell_type": "code",
   "execution_count": 7,
   "id": "5965cbe3",
   "metadata": {
    "ExecuteTime": {
     "end_time": "2022-09-03T11:32:13.768168Z",
     "start_time": "2022-09-03T11:32:13.731365Z"
    }
   },
   "outputs": [
    {
     "name": "stdout",
     "output_type": "stream",
     "text": [
      "<class 'pandas.core.frame.DataFrame'>\n",
      "RangeIndex: 1000 entries, 0 to 999\n",
      "Data columns (total 7 columns):\n",
      " #   Column    Non-Null Count  Dtype  \n",
      "---  ------    --------------  -----  \n",
      " 0   lon       1000 non-null   float64\n",
      " 1   lat       1000 non-null   float64\n",
      " 2   company   1000 non-null   object \n",
      " 3   location  1000 non-null   object \n",
      " 4   industry  1000 non-null   object \n",
      " 5   state     1000 non-null   object \n",
      " 6   city      1000 non-null   object \n",
      "dtypes: float64(2), object(5)\n",
      "memory usage: 54.8+ KB\n"
     ]
    }
   ],
   "source": [
    "df.info()"
   ]
  },
  {
   "cell_type": "code",
   "execution_count": 8,
   "id": "82f6a3be",
   "metadata": {
    "ExecuteTime": {
     "end_time": "2022-09-03T11:32:22.121192Z",
     "start_time": "2022-09-03T11:32:22.108877Z"
    }
   },
   "outputs": [
    {
     "data": {
      "text/plain": [
       "Index(['lon', 'lat', 'company', 'location', 'industry', 'state', 'city'], dtype='object')"
      ]
     },
     "execution_count": 8,
     "metadata": {},
     "output_type": "execute_result"
    }
   ],
   "source": [
    "df.columns"
   ]
  },
  {
   "cell_type": "code",
   "execution_count": 9,
   "id": "10b7ff9e",
   "metadata": {
    "ExecuteTime": {
     "end_time": "2022-09-03T11:32:23.571217Z",
     "start_time": "2022-09-03T11:32:23.557019Z"
    }
   },
   "outputs": [
    {
     "data": {
      "text/plain": [
       "(pandas.core.series.Series, list)"
      ]
     },
     "execution_count": 9,
     "metadata": {},
     "output_type": "execute_result"
    }
   ],
   "source": [
    "type(df['lon']), type(df['lon'].tolist())"
   ]
  },
  {
   "cell_type": "code",
   "execution_count": 10,
   "id": "6e6566e2",
   "metadata": {
    "ExecuteTime": {
     "end_time": "2022-09-03T11:32:25.758997Z",
     "start_time": "2022-09-03T11:32:25.699962Z"
    }
   },
   "outputs": [
    {
     "data": {
      "text/html": [
       "<div>\n",
       "<style scoped>\n",
       "    .dataframe tbody tr th:only-of-type {\n",
       "        vertical-align: middle;\n",
       "    }\n",
       "\n",
       "    .dataframe tbody tr th {\n",
       "        vertical-align: top;\n",
       "    }\n",
       "\n",
       "    .dataframe thead th {\n",
       "        text-align: right;\n",
       "    }\n",
       "</style>\n",
       "<table border=\"1\" class=\"dataframe\">\n",
       "  <thead>\n",
       "    <tr style=\"text-align: right;\">\n",
       "      <th></th>\n",
       "      <th>lon</th>\n",
       "      <th>lat</th>\n",
       "    </tr>\n",
       "  </thead>\n",
       "  <tbody>\n",
       "    <tr>\n",
       "      <th>count</th>\n",
       "      <td>1000.000000</td>\n",
       "      <td>1000.000000</td>\n",
       "    </tr>\n",
       "    <tr>\n",
       "      <th>mean</th>\n",
       "      <td>-89.886327</td>\n",
       "      <td>38.135856</td>\n",
       "    </tr>\n",
       "    <tr>\n",
       "      <th>std</th>\n",
       "      <td>15.414198</td>\n",
       "      <td>4.614641</td>\n",
       "    </tr>\n",
       "    <tr>\n",
       "      <th>min</th>\n",
       "      <td>-157.858000</td>\n",
       "      <td>18.429400</td>\n",
       "    </tr>\n",
       "    <tr>\n",
       "      <th>25%</th>\n",
       "      <td>-95.994100</td>\n",
       "      <td>34.968775</td>\n",
       "    </tr>\n",
       "    <tr>\n",
       "      <th>50%</th>\n",
       "      <td>-86.158100</td>\n",
       "      <td>39.647800</td>\n",
       "    </tr>\n",
       "    <tr>\n",
       "      <th>75%</th>\n",
       "      <td>-77.177300</td>\n",
       "      <td>41.252400</td>\n",
       "    </tr>\n",
       "    <tr>\n",
       "      <th>max</th>\n",
       "      <td>-66.060200</td>\n",
       "      <td>47.674000</td>\n",
       "    </tr>\n",
       "  </tbody>\n",
       "</table>\n",
       "</div>"
      ],
      "text/plain": [
       "               lon          lat\n",
       "count  1000.000000  1000.000000\n",
       "mean    -89.886327    38.135856\n",
       "std      15.414198     4.614641\n",
       "min    -157.858000    18.429400\n",
       "25%     -95.994100    34.968775\n",
       "50%     -86.158100    39.647800\n",
       "75%     -77.177300    41.252400\n",
       "max     -66.060200    47.674000"
      ]
     },
     "execution_count": 10,
     "metadata": {},
     "output_type": "execute_result"
    }
   ],
   "source": [
    "df.describe()"
   ]
  },
  {
   "cell_type": "code",
   "execution_count": 11,
   "id": "ead5c937",
   "metadata": {
    "ExecuteTime": {
     "end_time": "2022-09-03T11:32:27.551982Z",
     "start_time": "2022-09-03T11:32:27.511933Z"
    }
   },
   "outputs": [
    {
     "data": {
      "text/html": [
       "<div>\n",
       "<style scoped>\n",
       "    .dataframe tbody tr th:only-of-type {\n",
       "        vertical-align: middle;\n",
       "    }\n",
       "\n",
       "    .dataframe tbody tr th {\n",
       "        vertical-align: top;\n",
       "    }\n",
       "\n",
       "    .dataframe thead th {\n",
       "        text-align: right;\n",
       "    }\n",
       "</style>\n",
       "<table border=\"1\" class=\"dataframe\">\n",
       "  <thead>\n",
       "    <tr style=\"text-align: right;\">\n",
       "      <th></th>\n",
       "      <th>lon</th>\n",
       "      <th>lat</th>\n",
       "      <th>company</th>\n",
       "      <th>location</th>\n",
       "      <th>industry</th>\n",
       "      <th>state</th>\n",
       "      <th>city</th>\n",
       "    </tr>\n",
       "  </thead>\n",
       "  <tbody>\n",
       "    <tr>\n",
       "      <th>0</th>\n",
       "      <td>False</td>\n",
       "      <td>False</td>\n",
       "      <td>False</td>\n",
       "      <td>False</td>\n",
       "      <td>False</td>\n",
       "      <td>False</td>\n",
       "      <td>False</td>\n",
       "    </tr>\n",
       "    <tr>\n",
       "      <th>1</th>\n",
       "      <td>False</td>\n",
       "      <td>False</td>\n",
       "      <td>False</td>\n",
       "      <td>False</td>\n",
       "      <td>False</td>\n",
       "      <td>False</td>\n",
       "      <td>False</td>\n",
       "    </tr>\n",
       "    <tr>\n",
       "      <th>2</th>\n",
       "      <td>False</td>\n",
       "      <td>False</td>\n",
       "      <td>False</td>\n",
       "      <td>False</td>\n",
       "      <td>False</td>\n",
       "      <td>False</td>\n",
       "      <td>False</td>\n",
       "    </tr>\n",
       "    <tr>\n",
       "      <th>3</th>\n",
       "      <td>False</td>\n",
       "      <td>False</td>\n",
       "      <td>False</td>\n",
       "      <td>False</td>\n",
       "      <td>False</td>\n",
       "      <td>False</td>\n",
       "      <td>False</td>\n",
       "    </tr>\n",
       "    <tr>\n",
       "      <th>4</th>\n",
       "      <td>False</td>\n",
       "      <td>False</td>\n",
       "      <td>False</td>\n",
       "      <td>False</td>\n",
       "      <td>False</td>\n",
       "      <td>False</td>\n",
       "      <td>False</td>\n",
       "    </tr>\n",
       "    <tr>\n",
       "      <th>...</th>\n",
       "      <td>...</td>\n",
       "      <td>...</td>\n",
       "      <td>...</td>\n",
       "      <td>...</td>\n",
       "      <td>...</td>\n",
       "      <td>...</td>\n",
       "      <td>...</td>\n",
       "    </tr>\n",
       "    <tr>\n",
       "      <th>995</th>\n",
       "      <td>False</td>\n",
       "      <td>False</td>\n",
       "      <td>False</td>\n",
       "      <td>False</td>\n",
       "      <td>False</td>\n",
       "      <td>False</td>\n",
       "      <td>False</td>\n",
       "    </tr>\n",
       "    <tr>\n",
       "      <th>996</th>\n",
       "      <td>False</td>\n",
       "      <td>False</td>\n",
       "      <td>False</td>\n",
       "      <td>False</td>\n",
       "      <td>False</td>\n",
       "      <td>False</td>\n",
       "      <td>False</td>\n",
       "    </tr>\n",
       "    <tr>\n",
       "      <th>997</th>\n",
       "      <td>False</td>\n",
       "      <td>False</td>\n",
       "      <td>False</td>\n",
       "      <td>False</td>\n",
       "      <td>False</td>\n",
       "      <td>False</td>\n",
       "      <td>False</td>\n",
       "    </tr>\n",
       "    <tr>\n",
       "      <th>998</th>\n",
       "      <td>False</td>\n",
       "      <td>False</td>\n",
       "      <td>False</td>\n",
       "      <td>False</td>\n",
       "      <td>False</td>\n",
       "      <td>False</td>\n",
       "      <td>False</td>\n",
       "    </tr>\n",
       "    <tr>\n",
       "      <th>999</th>\n",
       "      <td>False</td>\n",
       "      <td>False</td>\n",
       "      <td>False</td>\n",
       "      <td>False</td>\n",
       "      <td>False</td>\n",
       "      <td>False</td>\n",
       "      <td>False</td>\n",
       "    </tr>\n",
       "  </tbody>\n",
       "</table>\n",
       "<p>1000 rows × 7 columns</p>\n",
       "</div>"
      ],
      "text/plain": [
       "       lon    lat  company  location  industry  state   city\n",
       "0    False  False    False     False     False  False  False\n",
       "1    False  False    False     False     False  False  False\n",
       "2    False  False    False     False     False  False  False\n",
       "3    False  False    False     False     False  False  False\n",
       "4    False  False    False     False     False  False  False\n",
       "..     ...    ...      ...       ...       ...    ...    ...\n",
       "995  False  False    False     False     False  False  False\n",
       "996  False  False    False     False     False  False  False\n",
       "997  False  False    False     False     False  False  False\n",
       "998  False  False    False     False     False  False  False\n",
       "999  False  False    False     False     False  False  False\n",
       "\n",
       "[1000 rows x 7 columns]"
      ]
     },
     "execution_count": 11,
     "metadata": {},
     "output_type": "execute_result"
    }
   ],
   "source": [
    "df.isnull()"
   ]
  },
  {
   "cell_type": "code",
   "execution_count": 12,
   "id": "5d15788b",
   "metadata": {
    "ExecuteTime": {
     "end_time": "2022-09-03T11:32:29.491462Z",
     "start_time": "2022-09-03T11:32:29.443442Z"
    }
   },
   "outputs": [
    {
     "data": {
      "text/html": [
       "<div>\n",
       "<style scoped>\n",
       "    .dataframe tbody tr th:only-of-type {\n",
       "        vertical-align: middle;\n",
       "    }\n",
       "\n",
       "    .dataframe tbody tr th {\n",
       "        vertical-align: top;\n",
       "    }\n",
       "\n",
       "    .dataframe thead th {\n",
       "        text-align: right;\n",
       "    }\n",
       "</style>\n",
       "<table border=\"1\" class=\"dataframe\">\n",
       "  <thead>\n",
       "    <tr style=\"text-align: right;\">\n",
       "      <th></th>\n",
       "      <th>lon</th>\n",
       "      <th>lat</th>\n",
       "      <th>company</th>\n",
       "      <th>location</th>\n",
       "      <th>industry</th>\n",
       "      <th>state</th>\n",
       "      <th>city</th>\n",
       "    </tr>\n",
       "  </thead>\n",
       "  <tbody>\n",
       "    <tr>\n",
       "      <th>0</th>\n",
       "      <td>False</td>\n",
       "      <td>False</td>\n",
       "      <td>False</td>\n",
       "      <td>False</td>\n",
       "      <td>False</td>\n",
       "      <td>False</td>\n",
       "      <td>False</td>\n",
       "    </tr>\n",
       "    <tr>\n",
       "      <th>1</th>\n",
       "      <td>False</td>\n",
       "      <td>False</td>\n",
       "      <td>False</td>\n",
       "      <td>False</td>\n",
       "      <td>False</td>\n",
       "      <td>False</td>\n",
       "      <td>False</td>\n",
       "    </tr>\n",
       "    <tr>\n",
       "      <th>2</th>\n",
       "      <td>False</td>\n",
       "      <td>False</td>\n",
       "      <td>False</td>\n",
       "      <td>False</td>\n",
       "      <td>False</td>\n",
       "      <td>False</td>\n",
       "      <td>False</td>\n",
       "    </tr>\n",
       "    <tr>\n",
       "      <th>3</th>\n",
       "      <td>False</td>\n",
       "      <td>False</td>\n",
       "      <td>False</td>\n",
       "      <td>False</td>\n",
       "      <td>False</td>\n",
       "      <td>False</td>\n",
       "      <td>False</td>\n",
       "    </tr>\n",
       "    <tr>\n",
       "      <th>4</th>\n",
       "      <td>False</td>\n",
       "      <td>False</td>\n",
       "      <td>False</td>\n",
       "      <td>False</td>\n",
       "      <td>False</td>\n",
       "      <td>False</td>\n",
       "      <td>False</td>\n",
       "    </tr>\n",
       "    <tr>\n",
       "      <th>...</th>\n",
       "      <td>...</td>\n",
       "      <td>...</td>\n",
       "      <td>...</td>\n",
       "      <td>...</td>\n",
       "      <td>...</td>\n",
       "      <td>...</td>\n",
       "      <td>...</td>\n",
       "    </tr>\n",
       "    <tr>\n",
       "      <th>995</th>\n",
       "      <td>False</td>\n",
       "      <td>False</td>\n",
       "      <td>False</td>\n",
       "      <td>False</td>\n",
       "      <td>False</td>\n",
       "      <td>False</td>\n",
       "      <td>False</td>\n",
       "    </tr>\n",
       "    <tr>\n",
       "      <th>996</th>\n",
       "      <td>False</td>\n",
       "      <td>False</td>\n",
       "      <td>False</td>\n",
       "      <td>False</td>\n",
       "      <td>False</td>\n",
       "      <td>False</td>\n",
       "      <td>False</td>\n",
       "    </tr>\n",
       "    <tr>\n",
       "      <th>997</th>\n",
       "      <td>False</td>\n",
       "      <td>False</td>\n",
       "      <td>False</td>\n",
       "      <td>False</td>\n",
       "      <td>False</td>\n",
       "      <td>False</td>\n",
       "      <td>False</td>\n",
       "    </tr>\n",
       "    <tr>\n",
       "      <th>998</th>\n",
       "      <td>False</td>\n",
       "      <td>False</td>\n",
       "      <td>False</td>\n",
       "      <td>False</td>\n",
       "      <td>False</td>\n",
       "      <td>False</td>\n",
       "      <td>False</td>\n",
       "    </tr>\n",
       "    <tr>\n",
       "      <th>999</th>\n",
       "      <td>False</td>\n",
       "      <td>False</td>\n",
       "      <td>False</td>\n",
       "      <td>False</td>\n",
       "      <td>False</td>\n",
       "      <td>False</td>\n",
       "      <td>False</td>\n",
       "    </tr>\n",
       "  </tbody>\n",
       "</table>\n",
       "<p>1000 rows × 7 columns</p>\n",
       "</div>"
      ],
      "text/plain": [
       "       lon    lat  company  location  industry  state   city\n",
       "0    False  False    False     False     False  False  False\n",
       "1    False  False    False     False     False  False  False\n",
       "2    False  False    False     False     False  False  False\n",
       "3    False  False    False     False     False  False  False\n",
       "4    False  False    False     False     False  False  False\n",
       "..     ...    ...      ...       ...       ...    ...    ...\n",
       "995  False  False    False     False     False  False  False\n",
       "996  False  False    False     False     False  False  False\n",
       "997  False  False    False     False     False  False  False\n",
       "998  False  False    False     False     False  False  False\n",
       "999  False  False    False     False     False  False  False\n",
       "\n",
       "[1000 rows x 7 columns]"
      ]
     },
     "execution_count": 12,
     "metadata": {},
     "output_type": "execute_result"
    }
   ],
   "source": [
    "df.isna()"
   ]
  },
  {
   "cell_type": "code",
   "execution_count": 13,
   "id": "3de77957",
   "metadata": {
    "ExecuteTime": {
     "end_time": "2022-09-03T11:32:30.753134Z",
     "start_time": "2022-09-03T11:32:30.732040Z"
    }
   },
   "outputs": [
    {
     "data": {
      "text/plain": [
       "lon         0\n",
       "lat         0\n",
       "company     0\n",
       "location    0\n",
       "industry    0\n",
       "state       0\n",
       "city        0\n",
       "dtype: int64"
      ]
     },
     "execution_count": 13,
     "metadata": {},
     "output_type": "execute_result"
    }
   ],
   "source": [
    "df.isnull().sum()"
   ]
  },
  {
   "cell_type": "code",
   "execution_count": 14,
   "id": "af64443e",
   "metadata": {
    "ExecuteTime": {
     "end_time": "2022-09-03T11:32:32.118135Z",
     "start_time": "2022-09-03T11:32:32.094011Z"
    }
   },
   "outputs": [
    {
     "data": {
      "text/plain": [
       "lon         0\n",
       "lat         0\n",
       "company     0\n",
       "location    0\n",
       "industry    0\n",
       "state       0\n",
       "city        0\n",
       "dtype: int64"
      ]
     },
     "execution_count": 14,
     "metadata": {},
     "output_type": "execute_result"
    }
   ],
   "source": [
    "df.isna().sum()"
   ]
  },
  {
   "cell_type": "code",
   "execution_count": 15,
   "id": "4fb3d794",
   "metadata": {
    "ExecuteTime": {
     "end_time": "2022-09-03T11:32:33.572103Z",
     "start_time": "2022-09-03T11:32:33.555911Z"
    }
   },
   "outputs": [
    {
     "data": {
      "text/plain": [
       "False"
      ]
     },
     "execution_count": 15,
     "metadata": {},
     "output_type": "execute_result"
    }
   ],
   "source": [
    "df.isnull().values.any()"
   ]
  },
  {
   "cell_type": "code",
   "execution_count": 16,
   "id": "9175cc25",
   "metadata": {
    "ExecuteTime": {
     "end_time": "2022-09-03T11:32:34.799898Z",
     "start_time": "2022-09-03T11:32:34.779337Z"
    }
   },
   "outputs": [
    {
     "data": {
      "text/plain": [
       "0      36.3729\n",
       "1      32.8140\n",
       "2      37.7799\n",
       "3      41.2524\n",
       "4      37.3230\n",
       "        ...   \n",
       "995    41.0340\n",
       "996    41.9634\n",
       "997    41.1465\n",
       "998    41.0534\n",
       "999    40.7128\n",
       "Name: lat, Length: 1000, dtype: float64"
      ]
     },
     "execution_count": 16,
     "metadata": {},
     "output_type": "execute_result"
    }
   ],
   "source": [
    "df['lat']"
   ]
  },
  {
   "cell_type": "code",
   "execution_count": 17,
   "id": "449195ee",
   "metadata": {
    "ExecuteTime": {
     "end_time": "2022-09-03T11:32:36.316611Z",
     "start_time": "2022-09-03T11:32:36.302545Z"
    }
   },
   "outputs": [
    {
     "data": {
      "text/plain": [
       "38.135855899999996"
      ]
     },
     "execution_count": 17,
     "metadata": {},
     "output_type": "execute_result"
    }
   ],
   "source": [
    "df['lat'].mean()"
   ]
  },
  {
   "cell_type": "code",
   "execution_count": 18,
   "id": "8d8d84c3",
   "metadata": {
    "ExecuteTime": {
     "end_time": "2022-09-03T11:32:36.981385Z",
     "start_time": "2022-09-03T11:32:36.965711Z"
    }
   },
   "outputs": [
    {
     "data": {
      "text/plain": [
       "39.6478"
      ]
     },
     "execution_count": 18,
     "metadata": {},
     "output_type": "execute_result"
    }
   ],
   "source": [
    "df['lat'].median()"
   ]
  },
  {
   "cell_type": "code",
   "execution_count": 19,
   "id": "e5b1dfee",
   "metadata": {
    "ExecuteTime": {
     "end_time": "2022-09-03T11:32:37.817423Z",
     "start_time": "2022-09-03T11:32:37.787128Z"
    }
   },
   "outputs": [
    {
     "data": {
      "text/plain": [
       "0    40.7128\n",
       "Name: lat, dtype: float64"
      ]
     },
     "execution_count": 19,
     "metadata": {},
     "output_type": "execute_result"
    }
   ],
   "source": [
    "df['lat'].mode()"
   ]
  },
  {
   "cell_type": "code",
   "execution_count": 83,
   "id": "70bcd93e",
   "metadata": {},
   "outputs": [],
   "source": [
    "# mean > median > mode -> +ve\n",
    "# mode > median > mean -> -ve\n"
   ]
  },
  {
   "cell_type": "code",
   "execution_count": 21,
   "id": "1ba7fd60",
   "metadata": {
    "ExecuteTime": {
     "end_time": "2022-09-03T11:33:07.857405Z",
     "start_time": "2022-09-03T11:33:07.184758Z"
    }
   },
   "outputs": [
    {
     "data": {
      "image/png": "[encoded data removed]",
      "text/plain": [
       "<Figure size 640x480 with 1 Axes>"
      ]
     },
     "metadata": {},
     "output_type": "display_data"
    }
   ],
   "source": [
    "import matplotlib.pyplot as plt\n",
    "\n",
    "\n",
    "plt.hist(df['lat'])\n",
    "plt.show() "
   ]
  },
  {
   "cell_type": "code",
   "execution_count": 23,
   "id": "a9dc7487",
   "metadata": {
    "ExecuteTime": {
     "end_time": "2022-09-03T11:33:25.695988Z",
     "start_time": "2022-09-03T11:33:25.087926Z"
    }
   },
   "outputs": [
    {
     "name": "stderr",
     "output_type": "stream",
     "text": [
      "/home/vijendra/project2/project2env/lib/python3.8/site-packages/seaborn/distributions.py:2619: FutureWarning: `distplot` is a deprecated function and will be removed in a future version. Please adapt your code to use either `displot` (a figure-level function with similar flexibility) or `histplot` (an axes-level function for histograms).\n",
      "  warnings.warn(msg, FutureWarning)\n"
     ]
    },
    {
     "data": {
      "text/plain": [
       "<AxesSubplot:xlabel='lat', ylabel='Density'>"
      ]
     },
     "execution_count": 23,
     "metadata": {},
     "output_type": "execute_result"
    },
    {
     "data": {
      "image/png": "[encoded data removed]",
      "text/plain": [
       "<Figure size 640x480 with 1 Axes>"
      ]
     },
     "metadata": {},
     "output_type": "display_data"
    }
   ],
   "source": [
    "import seaborn as sns\n",
    "\n",
    "data = df['lat']\n",
    "\n",
    "sns.distplot(data, bins=10, hist=True, kde=True, label = 'Revenue (in millions)')"
   ]
  },
  {
   "cell_type": "code",
   "execution_count": 24,
   "id": "91725352",
   "metadata": {
    "ExecuteTime": {
     "end_time": "2022-09-03T11:33:28.448544Z",
     "start_time": "2022-09-03T11:33:28.437547Z"
    }
   },
   "outputs": [
    {
     "data": {
      "text/plain": [
       "-89.88632729999999"
      ]
     },
     "execution_count": 24,
     "metadata": {},
     "output_type": "execute_result"
    }
   ],
   "source": [
    "df['lon'].mean()"
   ]
  },
  {
   "cell_type": "code",
   "execution_count": 25,
   "id": "fdfadf55",
   "metadata": {
    "ExecuteTime": {
     "end_time": "2022-09-03T11:33:28.812812Z",
     "start_time": "2022-09-03T11:33:28.798585Z"
    }
   },
   "outputs": [
    {
     "data": {
      "text/plain": [
       "-86.1581"
      ]
     },
     "execution_count": 25,
     "metadata": {},
     "output_type": "execute_result"
    }
   ],
   "source": [
    "df['lon'].median()"
   ]
  },
  {
   "cell_type": "code",
   "execution_count": 26,
   "id": "d959ce9d",
   "metadata": {
    "ExecuteTime": {
     "end_time": "2022-09-03T11:33:29.134376Z",
     "start_time": "2022-09-03T11:33:29.113714Z"
    }
   },
   "outputs": [
    {
     "data": {
      "text/plain": [
       "0   -74.0059\n",
       "Name: lon, dtype: float64"
      ]
     },
     "execution_count": 26,
     "metadata": {},
     "output_type": "execute_result"
    }
   ],
   "source": [
    "df['lon'].mode()"
   ]
  },
  {
   "cell_type": "code",
   "execution_count": 27,
   "id": "7178ae1c",
   "metadata": {
    "ExecuteTime": {
     "end_time": "2022-09-03T11:33:30.136328Z",
     "start_time": "2022-09-03T11:33:29.774397Z"
    }
   },
   "outputs": [
    {
     "name": "stderr",
     "output_type": "stream",
     "text": [
      "/home/vijendra/project2/project2env/lib/python3.8/site-packages/seaborn/distributions.py:2619: FutureWarning: `distplot` is a deprecated function and will be removed in a future version. Please adapt your code to use either `displot` (a figure-level function with similar flexibility) or `histplot` (an axes-level function for histograms).\n",
      "  warnings.warn(msg, FutureWarning)\n"
     ]
    },
    {
     "data": {
      "text/plain": [
       "<AxesSubplot:xlabel='lon', ylabel='Density'>"
      ]
     },
     "execution_count": 27,
     "metadata": {},
     "output_type": "execute_result"
    },
    {
     "data": {
      "image/png": "[encoded data removed]",
      "text/plain": [
       "<Figure size 640x480 with 1 Axes>"
      ]
     },
     "metadata": {},
     "output_type": "display_data"
    }
   ],
   "source": [
    "import seaborn as sns\n",
    "\n",
    "lon_data = df['lon']\n",
    "\n",
    "sns.distplot(lon_data, bins=10, hist=True, kde=True, label = 'Revenue (in millions)')"
   ]
  },
  {
   "cell_type": "code",
   "execution_count": 101,
   "id": "0a10570b",
   "metadata": {},
   "outputs": [],
   "source": [
    "df = pd.read_csv('fortune500.csv')"
   ]
  },
  {
   "cell_type": "code",
   "execution_count": 102,
   "id": "5c20ee93",
   "metadata": {},
   "outputs": [],
   "source": [
    "df['lon'] = df['lon'].fillna(df['lon'].mean())"
   ]
  },
  {
   "cell_type": "code",
   "execution_count": 103,
   "id": "3e246409",
   "metadata": {},
   "outputs": [
    {
     "data": {
      "text/html": [
       "<div>\n",
       "<style scoped>\n",
       "    .dataframe tbody tr th:only-of-type {\n",
       "        vertical-align: middle;\n",
       "    }\n",
       "\n",
       "    .dataframe tbody tr th {\n",
       "        vertical-align: top;\n",
       "    }\n",
       "\n",
       "    .dataframe thead th {\n",
       "        text-align: right;\n",
       "    }\n",
       "</style>\n",
       "<table border=\"1\" class=\"dataframe\">\n",
       "  <thead>\n",
       "    <tr style=\"text-align: right;\">\n",
       "      <th></th>\n",
       "      <th>lon</th>\n",
       "      <th>lat</th>\n",
       "      <th>company</th>\n",
       "      <th>location</th>\n",
       "      <th>industry</th>\n",
       "      <th>state</th>\n",
       "      <th>city</th>\n",
       "    </tr>\n",
       "  </thead>\n",
       "  <tbody>\n",
       "    <tr>\n",
       "      <th>0</th>\n",
       "      <td>-89.868176</td>\n",
       "      <td>36.3729</td>\n",
       "      <td>Walmart</td>\n",
       "      <td>Bentonville, AR</td>\n",
       "      <td>General Merchandisers</td>\n",
       "      <td>AR</td>\n",
       "      <td>Bentonville</td>\n",
       "    </tr>\n",
       "    <tr>\n",
       "      <th>1</th>\n",
       "      <td>-96.948900</td>\n",
       "      <td>32.8140</td>\n",
       "      <td>Exxon Mobil</td>\n",
       "      <td>Irving, TX</td>\n",
       "      <td>Petroleum Refining</td>\n",
       "      <td>TX</td>\n",
       "      <td>Irving</td>\n",
       "    </tr>\n",
       "    <tr>\n",
       "      <th>2</th>\n",
       "      <td>-121.978000</td>\n",
       "      <td>37.7799</td>\n",
       "      <td>Chevron</td>\n",
       "      <td>San Ramon, CA</td>\n",
       "      <td>Petroleum Refining</td>\n",
       "      <td>CA</td>\n",
       "      <td>San Ramon</td>\n",
       "    </tr>\n",
       "    <tr>\n",
       "      <th>3</th>\n",
       "      <td>-95.998000</td>\n",
       "      <td>41.2524</td>\n",
       "      <td>Berkshire Hathaway</td>\n",
       "      <td>Omaha, NE</td>\n",
       "      <td>Insurance: Property and Casualty (Stock)</td>\n",
       "      <td>NE</td>\n",
       "      <td>Omaha</td>\n",
       "    </tr>\n",
       "    <tr>\n",
       "      <th>4</th>\n",
       "      <td>-89.868176</td>\n",
       "      <td>37.3230</td>\n",
       "      <td>Apple</td>\n",
       "      <td>Cupertino, CA</td>\n",
       "      <td>Computers, Office Equipment</td>\n",
       "      <td>CA</td>\n",
       "      <td>Cupertino</td>\n",
       "    </tr>\n",
       "    <tr>\n",
       "      <th>...</th>\n",
       "      <td>...</td>\n",
       "      <td>...</td>\n",
       "      <td>...</td>\n",
       "      <td>...</td>\n",
       "      <td>...</td>\n",
       "      <td>...</td>\n",
       "      <td>...</td>\n",
       "    </tr>\n",
       "    <tr>\n",
       "      <th>995</th>\n",
       "      <td>-73.762900</td>\n",
       "      <td>41.0340</td>\n",
       "      <td>Universal American</td>\n",
       "      <td>White Plains, NY</td>\n",
       "      <td>Health Care: Insurance and Managed Care</td>\n",
       "      <td>NY</td>\n",
       "      <td>White Plains</td>\n",
       "    </tr>\n",
       "    <tr>\n",
       "      <th>996</th>\n",
       "      <td>-87.979000</td>\n",
       "      <td>41.9634</td>\n",
       "      <td>AAR</td>\n",
       "      <td>Wood Dale, IL</td>\n",
       "      <td>Aerospace and Defense</td>\n",
       "      <td>IL</td>\n",
       "      <td>Wood Dale</td>\n",
       "    </tr>\n",
       "    <tr>\n",
       "      <th>997</th>\n",
       "      <td>-74.752400</td>\n",
       "      <td>41.1465</td>\n",
       "      <td>Selective Insurance Group</td>\n",
       "      <td>Branchville, NJ</td>\n",
       "      <td>Insurance: Property and Casualty (Stock)</td>\n",
       "      <td>NJ</td>\n",
       "      <td>Branchville</td>\n",
       "    </tr>\n",
       "    <tr>\n",
       "      <th>998</th>\n",
       "      <td>-73.538700</td>\n",
       "      <td>41.0534</td>\n",
       "      <td>Gartner</td>\n",
       "      <td>Stamford, CT</td>\n",
       "      <td>Information Technology Services</td>\n",
       "      <td>CT</td>\n",
       "      <td>Stamford</td>\n",
       "    </tr>\n",
       "    <tr>\n",
       "      <th>999</th>\n",
       "      <td>-74.005900</td>\n",
       "      <td>40.7128</td>\n",
       "      <td>E*Trade Financial</td>\n",
       "      <td>New York, NY</td>\n",
       "      <td>Securities</td>\n",
       "      <td>NY</td>\n",
       "      <td>New York</td>\n",
       "    </tr>\n",
       "  </tbody>\n",
       "</table>\n",
       "<p>1000 rows × 7 columns</p>\n",
       "</div>"
      ],
      "text/plain": [
       "            lon      lat                    company          location  \\\n",
       "0    -89.868176  36.3729                    Walmart   Bentonville, AR   \n",
       "1    -96.948900  32.8140                Exxon Mobil        Irving, TX   \n",
       "2   -121.978000  37.7799                    Chevron     San Ramon, CA   \n",
       "3    -95.998000  41.2524         Berkshire Hathaway         Omaha, NE   \n",
       "4    -89.868176  37.3230                      Apple     Cupertino, CA   \n",
       "..          ...      ...                        ...               ...   \n",
       "995  -73.762900  41.0340         Universal American  White Plains, NY   \n",
       "996  -87.979000  41.9634                        AAR     Wood Dale, IL   \n",
       "997  -74.752400  41.1465  Selective Insurance Group   Branchville, NJ   \n",
       "998  -73.538700  41.0534                    Gartner      Stamford, CT   \n",
       "999  -74.005900  40.7128          E*Trade Financial      New York, NY   \n",
       "\n",
       "                                     industry state          city  \n",
       "0                       General Merchandisers    AR   Bentonville  \n",
       "1                          Petroleum Refining    TX        Irving  \n",
       "2                          Petroleum Refining    CA     San Ramon  \n",
       "3    Insurance: Property and Casualty (Stock)    NE         Omaha  \n",
       "4                 Computers, Office Equipment    CA     Cupertino  \n",
       "..                                        ...   ...           ...  \n",
       "995   Health Care: Insurance and Managed Care    NY  White Plains  \n",
       "996                     Aerospace and Defense    IL     Wood Dale  \n",
       "997  Insurance: Property and Casualty (Stock)    NJ   Branchville  \n",
       "998           Information Technology Services    CT      Stamford  \n",
       "999                                Securities    NY      New York  \n",
       "\n",
       "[1000 rows x 7 columns]"
      ]
     },
     "execution_count": 103,
     "metadata": {},
     "output_type": "execute_result"
    }
   ],
   "source": [
    "df"
   ]
  },
  {
   "cell_type": "code",
   "execution_count": 105,
   "id": "a26f2fea",
   "metadata": {},
   "outputs": [
    {
     "data": {
      "text/plain": [
       "lon                       -157.858\n",
       "lat                        18.4294\n",
       "company                         3M\n",
       "location           Abbott Park, IL\n",
       "industry    Advertising, marketing\n",
       "state                           AL\n",
       "city                   Abbott Park\n",
       "dtype: object"
      ]
     },
     "execution_count": 105,
     "metadata": {},
     "output_type": "execute_result"
    }
   ],
   "source": [
    "df.min()"
   ]
  },
  {
   "cell_type": "code",
   "execution_count": 109,
   "id": "3045db0a",
   "metadata": {},
   "outputs": [
    {
     "data": {
      "text/plain": [
       "(18.4294, 47.674, 4.61464142700221)"
      ]
     },
     "execution_count": 109,
     "metadata": {},
     "output_type": "execute_result"
    }
   ],
   "source": [
    "df['lat'].min(), df['lat'].max(), df['lat'].std()"
   ]
  },
  {
   "cell_type": "code",
   "execution_count": 106,
   "id": "c53f833d",
   "metadata": {},
   "outputs": [
    {
     "data": {
      "text/html": [
       "<div>\n",
       "<style scoped>\n",
       "    .dataframe tbody tr th:only-of-type {\n",
       "        vertical-align: middle;\n",
       "    }\n",
       "\n",
       "    .dataframe tbody tr th {\n",
       "        vertical-align: top;\n",
       "    }\n",
       "\n",
       "    .dataframe thead th {\n",
       "        text-align: right;\n",
       "    }\n",
       "</style>\n",
       "<table border=\"1\" class=\"dataframe\">\n",
       "  <thead>\n",
       "    <tr style=\"text-align: right;\">\n",
       "      <th></th>\n",
       "      <th>lon</th>\n",
       "      <th>lat</th>\n",
       "    </tr>\n",
       "  </thead>\n",
       "  <tbody>\n",
       "    <tr>\n",
       "      <th>count</th>\n",
       "      <td>1000.000000</td>\n",
       "      <td>1000.000000</td>\n",
       "    </tr>\n",
       "    <tr>\n",
       "      <th>mean</th>\n",
       "      <td>-89.868176</td>\n",
       "      <td>38.135856</td>\n",
       "    </tr>\n",
       "    <tr>\n",
       "      <th>std</th>\n",
       "      <td>15.369002</td>\n",
       "      <td>4.614641</td>\n",
       "    </tr>\n",
       "    <tr>\n",
       "      <th>min</th>\n",
       "      <td>-157.858000</td>\n",
       "      <td>18.429400</td>\n",
       "    </tr>\n",
       "    <tr>\n",
       "      <th>25%</th>\n",
       "      <td>-95.992800</td>\n",
       "      <td>34.968775</td>\n",
       "    </tr>\n",
       "    <tr>\n",
       "      <th>50%</th>\n",
       "      <td>-86.224600</td>\n",
       "      <td>39.647800</td>\n",
       "    </tr>\n",
       "    <tr>\n",
       "      <th>75%</th>\n",
       "      <td>-77.177300</td>\n",
       "      <td>41.252400</td>\n",
       "    </tr>\n",
       "    <tr>\n",
       "      <th>max</th>\n",
       "      <td>-66.060200</td>\n",
       "      <td>47.674000</td>\n",
       "    </tr>\n",
       "  </tbody>\n",
       "</table>\n",
       "</div>"
      ],
      "text/plain": [
       "               lon          lat\n",
       "count  1000.000000  1000.000000\n",
       "mean    -89.868176    38.135856\n",
       "std      15.369002     4.614641\n",
       "min    -157.858000    18.429400\n",
       "25%     -95.992800    34.968775\n",
       "50%     -86.224600    39.647800\n",
       "75%     -77.177300    41.252400\n",
       "max     -66.060200    47.674000"
      ]
     },
     "execution_count": 106,
     "metadata": {},
     "output_type": "execute_result"
    }
   ],
   "source": [
    "df.describe()"
   ]
  },
  {
   "cell_type": "code",
   "execution_count": 28,
   "id": "cf9e07e3",
   "metadata": {
    "ExecuteTime": {
     "end_time": "2022-09-03T11:33:36.479633Z",
     "start_time": "2022-09-03T11:33:36.468785Z"
    }
   },
   "outputs": [],
   "source": [
    "def right_nor_left(df_col):\n",
    "    \n",
    "    mean = df_col.mean()\n",
    "    median = df_col.median()\n",
    "    mode = float(df_col.mode())\n",
    "    \n",
    "    if mean > median > mode:\n",
    "        return \"positive (+ve) skewed\"\n",
    "    \n",
    "    elif mean == median == mode:\n",
    "        return \"normal skewed\"\n",
    "    \n",
    "    elif mode > median > mean:\n",
    "        return \"negative (-ve) skewed\"\n",
    "        \n",
    "    "
   ]
  },
  {
   "cell_type": "code",
   "execution_count": 29,
   "id": "ddb2c78a",
   "metadata": {
    "ExecuteTime": {
     "end_time": "2022-09-03T11:33:36.939463Z",
     "start_time": "2022-09-03T11:33:36.927582Z"
    }
   },
   "outputs": [],
   "source": [
    "res = right_nor_left(df['lat'])"
   ]
  },
  {
   "cell_type": "code",
   "execution_count": 30,
   "id": "2530024d",
   "metadata": {
    "ExecuteTime": {
     "end_time": "2022-09-03T11:33:37.438921Z",
     "start_time": "2022-09-03T11:33:37.430718Z"
    }
   },
   "outputs": [
    {
     "name": "stdout",
     "output_type": "stream",
     "text": [
      "negative (-ve) skewed\n"
     ]
    }
   ],
   "source": [
    "print(res)"
   ]
  },
  {
   "cell_type": "code",
   "execution_count": 31,
   "id": "1b1e1fa3",
   "metadata": {
    "ExecuteTime": {
     "end_time": "2022-09-03T11:33:40.836298Z",
     "start_time": "2022-09-03T11:33:39.621072Z"
    }
   },
   "outputs": [
    {
     "data": {
      "image/png": "[encoded data removed]",
      "text/plain": [
       "<Figure size 640x480 with 1 Axes>"
      ]
     },
     "metadata": {},
     "output_type": "display_data"
    }
   ],
   "source": [
    "# plotting a bar chart\n",
    "plt.bar(df['lon'], df['lat'],width = 0.8, color = ['red', 'green'])\n",
    "\n",
    "# naming the x-axis\n",
    "plt.xlabel('x - axis')\n",
    "# naming the y-axis\n",
    "plt.ylabel('y - axis')\n",
    "# plot title\n",
    "plt.title('My bar chart!')\n",
    "\n",
    "# function to show the plot\n",
    "plt.show()"
   ]
  },
  {
   "cell_type": "code",
   "execution_count": 32,
   "id": "82600631",
   "metadata": {
    "ExecuteTime": {
     "end_time": "2022-09-03T11:33:41.221602Z",
     "start_time": "2022-09-03T11:33:40.982498Z"
    }
   },
   "outputs": [
    {
     "data": {
      "image/png": "[encoded data removed]",
      "text/plain": [
       "<Figure size 640x480 with 1 Axes>"
      ]
     },
     "metadata": {},
     "output_type": "display_data"
    }
   ],
   "source": [
    "import matplotlib.pyplot as plt\n",
    "\n",
    "# defining labels\n",
    "activities = ['eat', 'sleep', 'work', 'play']\n",
    "\n",
    "# portion covered by each label\n",
    "slices = [3, 7, 8, 6]\n",
    "\n",
    "# color for each label\n",
    "colors = ['r', 'y', 'g', 'b']\n",
    "\n",
    "# plotting the pie chart\n",
    "plt.pie(slices, labels = activities, colors=colors,\n",
    "\t\tstartangle=90, shadow = True, explode = (0, 0, 0.1, 0),\n",
    "\t\tradius = 1.2, autopct = '%1.1f%%')\n",
    "\n",
    "# plotting legend\n",
    "plt.legend()\n",
    "\n",
    "# showing the plot\n",
    "plt.show()"
   ]
  },
  {
   "cell_type": "code",
   "execution_count": 33,
   "id": "ea4dde1b",
   "metadata": {
    "ExecuteTime": {
     "end_time": "2022-09-03T11:33:42.630074Z",
     "start_time": "2022-09-03T11:33:42.365203Z"
    }
   },
   "outputs": [
    {
     "data": {
      "image/png": "[encoded data removed]",
      "text/plain": [
       "<Figure size 640x480 with 1 Axes>"
      ]
     },
     "metadata": {},
     "output_type": "display_data"
    }
   ],
   "source": [
    "import matplotlib.pyplot as plt\n",
    "\n",
    "# x-axis values\n",
    "x = [1,2,3,4,5,6,7,8,9,10]\n",
    "# y-axis values\n",
    "y = [2,4,5,7,6,8,9,11,12,12]\n",
    "\n",
    "# plotting points as a scatter plot\n",
    "plt.scatter(df['lat'], df['lon'], label= \"stars\", color= \"green\",\n",
    "\t\t\tmarker= \"*\", s=30)\n",
    "\n",
    "# x-axis label\n",
    "plt.xlabel('x - axis')\n",
    "# frequency label\n",
    "plt.ylabel('y - axis')\n",
    "# plot title\n",
    "plt.title('My scatter plot!')\n",
    "# showing legend\n",
    "plt.legend()\n",
    "\n",
    "# function to show the plot\n",
    "plt.show()"
   ]
  },
  {
   "cell_type": "code",
   "execution_count": 34,
   "id": "c50b1b7b",
   "metadata": {
    "ExecuteTime": {
     "end_time": "2022-09-03T11:33:42.943306Z",
     "start_time": "2022-09-03T11:33:42.922696Z"
    }
   },
   "outputs": [
    {
     "data": {
      "text/html": [
       "<div>\n",
       "<style scoped>\n",
       "    .dataframe tbody tr th:only-of-type {\n",
       "        vertical-align: middle;\n",
       "    }\n",
       "\n",
       "    .dataframe tbody tr th {\n",
       "        vertical-align: top;\n",
       "    }\n",
       "\n",
       "    .dataframe thead th {\n",
       "        text-align: right;\n",
       "    }\n",
       "</style>\n",
       "<table border=\"1\" class=\"dataframe\">\n",
       "  <thead>\n",
       "    <tr style=\"text-align: right;\">\n",
       "      <th></th>\n",
       "      <th>lon</th>\n",
       "      <th>lat</th>\n",
       "    </tr>\n",
       "  </thead>\n",
       "  <tbody>\n",
       "    <tr>\n",
       "      <th>lon</th>\n",
       "      <td>1.000000</td>\n",
       "      <td>0.221079</td>\n",
       "    </tr>\n",
       "    <tr>\n",
       "      <th>lat</th>\n",
       "      <td>0.221079</td>\n",
       "      <td>1.000000</td>\n",
       "    </tr>\n",
       "  </tbody>\n",
       "</table>\n",
       "</div>"
      ],
      "text/plain": [
       "          lon       lat\n",
       "lon  1.000000  0.221079\n",
       "lat  0.221079  1.000000"
      ]
     },
     "execution_count": 34,
     "metadata": {},
     "output_type": "execute_result"
    }
   ],
   "source": [
    "df.corr()"
   ]
  },
  {
   "cell_type": "code",
   "execution_count": 35,
   "id": "5fbf4760",
   "metadata": {
    "ExecuteTime": {
     "end_time": "2022-09-03T11:33:43.699180Z",
     "start_time": "2022-09-03T11:33:43.678202Z"
    }
   },
   "outputs": [
    {
     "data": {
      "text/html": [
       "<div>\n",
       "<style scoped>\n",
       "    .dataframe tbody tr th:only-of-type {\n",
       "        vertical-align: middle;\n",
       "    }\n",
       "\n",
       "    .dataframe tbody tr th {\n",
       "        vertical-align: top;\n",
       "    }\n",
       "\n",
       "    .dataframe thead th {\n",
       "        text-align: right;\n",
       "    }\n",
       "</style>\n",
       "<table border=\"1\" class=\"dataframe\">\n",
       "  <thead>\n",
       "    <tr style=\"text-align: right;\">\n",
       "      <th></th>\n",
       "      <th>lat</th>\n",
       "    </tr>\n",
       "  </thead>\n",
       "  <tbody>\n",
       "    <tr>\n",
       "      <th>lon</th>\n",
       "      <td>0.221079</td>\n",
       "    </tr>\n",
       "    <tr>\n",
       "      <th>lat</th>\n",
       "      <td>1.000000</td>\n",
       "    </tr>\n",
       "  </tbody>\n",
       "</table>\n",
       "</div>"
      ],
      "text/plain": [
       "          lat\n",
       "lon  0.221079\n",
       "lat  1.000000"
      ]
     },
     "execution_count": 35,
     "metadata": {},
     "output_type": "execute_result"
    }
   ],
   "source": [
    "df.corr()[['lat']]"
   ]
  },
  {
   "cell_type": "code",
   "execution_count": 36,
   "id": "3d9b497b",
   "metadata": {
    "ExecuteTime": {
     "end_time": "2022-09-03T11:33:43.948914Z",
     "start_time": "2022-09-03T11:33:43.944175Z"
    }
   },
   "outputs": [],
   "source": [
    "# Q1, Q2, Q3, IQR (Q3-Q1)"
   ]
  },
  {
   "cell_type": "code",
   "execution_count": 37,
   "id": "075aea7c",
   "metadata": {
    "ExecuteTime": {
     "end_time": "2022-09-03T11:33:44.205322Z",
     "start_time": "2022-09-03T11:33:44.190879Z"
    }
   },
   "outputs": [
    {
     "data": {
      "text/plain": [
       "-118.244"
      ]
     },
     "execution_count": 37,
     "metadata": {},
     "output_type": "execute_result"
    }
   ],
   "source": [
    "df['lon'].quantile(0.1)"
   ]
  },
  {
   "cell_type": "code",
   "execution_count": 38,
   "id": "6e43275c",
   "metadata": {
    "ExecuteTime": {
     "end_time": "2022-09-03T11:33:44.373065Z",
     "start_time": "2022-09-03T11:33:44.365356Z"
    }
   },
   "outputs": [
    {
     "data": {
      "text/plain": [
       "-95.9941"
      ]
     },
     "execution_count": 38,
     "metadata": {},
     "output_type": "execute_result"
    }
   ],
   "source": [
    "df['lon'].quantile(0.25)"
   ]
  },
  {
   "cell_type": "code",
   "execution_count": 39,
   "id": "252ff521",
   "metadata": {
    "ExecuteTime": {
     "end_time": "2022-09-03T11:33:44.562491Z",
     "start_time": "2022-09-03T11:33:44.556726Z"
    }
   },
   "outputs": [
    {
     "data": {
      "text/plain": [
       "-86.1581"
      ]
     },
     "execution_count": 39,
     "metadata": {},
     "output_type": "execute_result"
    }
   ],
   "source": [
    "df['lon'].quantile(0.50)"
   ]
  },
  {
   "cell_type": "code",
   "execution_count": 40,
   "id": "909e0d82",
   "metadata": {
    "ExecuteTime": {
     "end_time": "2022-09-03T11:33:44.935616Z",
     "start_time": "2022-09-03T11:33:44.918384Z"
    }
   },
   "outputs": [
    {
     "data": {
      "text/plain": [
       "-77.1773"
      ]
     },
     "execution_count": 40,
     "metadata": {},
     "output_type": "execute_result"
    }
   ],
   "source": [
    "df['lon'].quantile(0.75)"
   ]
  },
  {
   "cell_type": "code",
   "execution_count": 41,
   "id": "94699022",
   "metadata": {
    "ExecuteTime": {
     "end_time": "2022-09-03T11:33:45.147947Z",
     "start_time": "2022-09-03T11:33:45.133287Z"
    }
   },
   "outputs": [
    {
     "data": {
      "text/plain": [
       "(-157.858, -66.0602)"
      ]
     },
     "execution_count": 41,
     "metadata": {},
     "output_type": "execute_result"
    }
   ],
   "source": [
    "df['lon'].min(), df['lon'].max()"
   ]
  },
  {
   "cell_type": "code",
   "execution_count": null,
   "id": "86f9ab8f",
   "metadata": {},
   "outputs": [],
   "source": []
  },
  {
   "cell_type": "code",
   "execution_count": 42,
   "id": "4dc8923a",
   "metadata": {
    "ExecuteTime": {
     "end_time": "2022-09-03T11:33:46.102990Z",
     "start_time": "2022-09-03T11:33:45.764781Z"
    }
   },
   "outputs": [
    {
     "data": {
      "image/png": "[encoded data removed]",
      "text/plain": [
       "<Figure size 640x480 with 1 Axes>"
      ]
     },
     "metadata": {},
     "output_type": "display_data"
    }
   ],
   "source": [
    "df.boxplot();"
   ]
  },
  {
   "cell_type": "code",
   "execution_count": 43,
   "id": "691d6e03",
   "metadata": {
    "ExecuteTime": {
     "end_time": "2022-09-03T11:33:46.429223Z",
     "start_time": "2022-09-03T11:33:46.290377Z"
    }
   },
   "outputs": [
    {
     "data": {
      "image/png": "[encoded data removed]",
      "text/plain": [
       "<Figure size 640x480 with 1 Axes>"
      ]
     },
     "metadata": {},
     "output_type": "display_data"
    }
   ],
   "source": [
    "plt.boxplot(df['lon'])\n",
    "\n",
    "plt.show()"
   ]
  },
  {
   "cell_type": "code",
   "execution_count": 44,
   "id": "944ba33d",
   "metadata": {
    "ExecuteTime": {
     "end_time": "2022-09-03T11:33:46.979356Z",
     "start_time": "2022-09-03T11:33:46.958473Z"
    }
   },
   "outputs": [
    {
     "data": {
      "text/plain": [
       "-122.40822"
      ]
     },
     "execution_count": 44,
     "metadata": {},
     "output_type": "execute_result"
    }
   ],
   "source": [
    "df['lon'].quantile(0.02) "
   ]
  },
  {
   "cell_type": "code",
   "execution_count": 45,
   "id": "39e0b360",
   "metadata": {
    "ExecuteTime": {
     "end_time": "2022-09-03T11:33:47.564491Z",
     "start_time": "2022-09-03T11:33:47.549604Z"
    }
   },
   "outputs": [
    {
     "data": {
      "text/plain": [
       "0       True\n",
       "1       True\n",
       "2       True\n",
       "3       True\n",
       "4      False\n",
       "       ...  \n",
       "995     True\n",
       "996     True\n",
       "997     True\n",
       "998     True\n",
       "999     True\n",
       "Name: lon, Length: 1000, dtype: bool"
      ]
     },
     "execution_count": 45,
     "metadata": {},
     "output_type": "execute_result"
    }
   ],
   "source": [
    "df['lon'] > -122"
   ]
  },
  {
   "cell_type": "code",
   "execution_count": null,
   "id": "0956f52d",
   "metadata": {},
   "outputs": [],
   "source": []
  },
  {
   "cell_type": "code",
   "execution_count": 46,
   "id": "dabecc26",
   "metadata": {
    "ExecuteTime": {
     "end_time": "2022-09-03T11:33:48.557594Z",
     "start_time": "2022-09-03T11:33:48.277094Z"
    }
   },
   "outputs": [
    {
     "data": {
      "image/png": "[encoded data removed]",
      "text/plain": [
       "<Figure size 640x480 with 1 Axes>"
      ]
     },
     "metadata": {},
     "output_type": "display_data"
    }
   ],
   "source": [
    "plt.boxplot(df['lat'])\n",
    "\n",
    "plt.show()"
   ]
  },
  {
   "cell_type": "code",
   "execution_count": 47,
   "id": "7d1df7a2",
   "metadata": {
    "ExecuteTime": {
     "end_time": "2022-09-03T11:33:48.671626Z",
     "start_time": "2022-09-03T11:33:48.664289Z"
    }
   },
   "outputs": [],
   "source": [
    "\n",
    "# IQR = Q3 - Q1\n",
    "# ul = Q3+1.5*IQR\n",
    "# ll = Q1-1.5*IQR"
   ]
  },
  {
   "cell_type": "code",
   "execution_count": 48,
   "id": "334d143d",
   "metadata": {
    "ExecuteTime": {
     "end_time": "2022-09-03T11:33:49.114247Z",
     "start_time": "2022-09-03T11:33:49.098487Z"
    }
   },
   "outputs": [],
   "source": [
    "def ul_ll_iqr(df_col):\n",
    "    q1 = df_col.quantile(0.25)\n",
    "    q3 = df_col.quantile(0.75)\n",
    "    IQR = q3-q1\n",
    "    ul = q3+1.5*IQR\n",
    "    ll = q1-1.5*IQR\n",
    "    \n",
    "    plt.boxplot(df_col)\n",
    "\n",
    "    plt.show()\n",
    "    \n",
    "    outliers = lon_data[(lon_data > ul) | (lon_data < ll)]\n",
    "    \n",
    "    return ul, ll, IQR, outliers"
   ]
  },
  {
   "cell_type": "code",
   "execution_count": null,
   "id": "698f03ca",
   "metadata": {},
   "outputs": [],
   "source": []
  },
  {
   "cell_type": "code",
   "execution_count": 49,
   "id": "042a34b9",
   "metadata": {
    "ExecuteTime": {
     "end_time": "2022-09-03T11:33:50.893372Z",
     "start_time": "2022-09-03T11:33:50.678837Z"
    }
   },
   "outputs": [
    {
     "data": {
      "image/png": "[encoded data removed]",
      "text/plain": [
       "<Figure size 640x480 with 1 Axes>"
      ]
     },
     "metadata": {},
     "output_type": "display_data"
    },
    {
     "data": {
      "text/plain": [
       "(-48.9521,\n",
       " -124.2193,\n",
       " 18.8168,\n",
       " 709   -157.858\n",
       " 919   -157.858\n",
       " Name: lon, dtype: float64)"
      ]
     },
     "execution_count": 49,
     "metadata": {},
     "output_type": "execute_result"
    }
   ],
   "source": [
    "ul_ll_iqr(df['lon'])"
   ]
  },
  {
   "cell_type": "code",
   "execution_count": 50,
   "id": "cfdc16d7",
   "metadata": {
    "ExecuteTime": {
     "end_time": "2022-09-03T11:33:51.613181Z",
     "start_time": "2022-09-03T11:33:51.352365Z"
    }
   },
   "outputs": [
    {
     "data": {
      "image/png": "[encoded data removed]",
      "text/plain": [
       "<Figure size 640x480 with 1 Axes>"
      ]
     },
     "metadata": {},
     "output_type": "display_data"
    },
    {
     "data": {
      "text/plain": [
       "(50.67783750000001,\n",
       " 25.543337499999982,\n",
       " 6.283625000000008,\n",
       " 0      -94.2088\n",
       " 1      -96.9489\n",
       " 2     -121.9780\n",
       " 3      -95.9980\n",
       " 4     -122.0320\n",
       "          ...   \n",
       " 995    -73.7629\n",
       " 996    -87.9790\n",
       " 997    -74.7524\n",
       " 998    -73.5387\n",
       " 999    -74.0059\n",
       " Name: lon, Length: 1000, dtype: float64)"
      ]
     },
     "execution_count": 50,
     "metadata": {},
     "output_type": "execute_result"
    }
   ],
   "source": [
    "ul_ll_iqr(df['lat'])"
   ]
  },
  {
   "cell_type": "code",
   "execution_count": 51,
   "id": "666d7051",
   "metadata": {
    "ExecuteTime": {
     "end_time": "2022-09-03T11:37:28.254742Z",
     "start_time": "2022-09-03T11:37:26.709337Z"
    }
   },
   "outputs": [
    {
     "data": {
      "text/plain": [
       "<AxesSubplot:xlabel='species', ylabel='sepal_length'>"
      ]
     },
     "execution_count": 51,
     "metadata": {},
     "output_type": "execute_result"
    },
    {
     "data": {
      "image/png": "[encoded data removed]",
      "text/plain": [
       "<Figure size 640x480 with 1 Axes>"
      ]
     },
     "metadata": {},
     "output_type": "display_data"
    }
   ],
   "source": [
    "# library & dataset\n",
    "import seaborn as sns\n",
    "df = sns.load_dataset('iris')\n",
    "\n",
    "# plot\n",
    "sns.violinplot(x=df[\"species\"], y=df[\"sepal_length\"])"
   ]
  },
  {
   "cell_type": "code",
   "execution_count": 56,
   "id": "9760e0dd",
   "metadata": {
    "ExecuteTime": {
     "end_time": "2022-09-03T11:38:29.613913Z",
     "start_time": "2022-09-03T11:38:29.308989Z"
    }
   },
   "outputs": [
    {
     "data": {
      "text/plain": [
       "<AxesSubplot:xlabel='lat'>"
      ]
     },
     "execution_count": 56,
     "metadata": {},
     "output_type": "execute_result"
    },
    {
     "data": {
      "image/png": "[encoded data removed]",
      "text/plain": [
       "<Figure size 640x480 with 1 Axes>"
      ]
     },
     "metadata": {},
     "output_type": "display_data"
    }
   ],
   "source": [
    "sns.violinplot(x=df[\"lat\"])"
   ]
  },
  {
   "cell_type": "code",
   "execution_count": 57,
   "id": "61df5b11",
   "metadata": {
    "ExecuteTime": {
     "end_time": "2022-09-03T11:38:38.197805Z",
     "start_time": "2022-09-03T11:38:37.952014Z"
    }
   },
   "outputs": [
    {
     "data": {
      "text/plain": [
       "<AxesSubplot:xlabel='lon'>"
      ]
     },
     "execution_count": 57,
     "metadata": {},
     "output_type": "execute_result"
    },
    {
     "data": {
      "image/png": "[encoded data removed]",
      "text/plain": [
       "<Figure size 640x480 with 1 Axes>"
      ]
     },
     "metadata": {},
     "output_type": "display_data"
    }
   ],
   "source": [
    "sns.violinplot(x=df[\"lon\"])"
   ]
  },
  {
   "cell_type": "code",
   "execution_count": 58,
   "id": "6261b8fa",
   "metadata": {
    "ExecuteTime": {
     "end_time": "2022-09-03T11:38:49.687127Z",
     "start_time": "2022-09-03T11:38:49.493073Z"
    }
   },
   "outputs": [
    {
     "data": {
      "text/plain": [
       "<AxesSubplot:ylabel='lon'>"
      ]
     },
     "execution_count": 58,
     "metadata": {},
     "output_type": "execute_result"
    },
    {
     "data": {
      "image/png": "[encoded data removed]",
      "text/plain": [
       "<Figure size 640x480 with 1 Axes>"
      ]
     },
     "metadata": {},
     "output_type": "display_data"
    }
   ],
   "source": [
    "sns.violinplot(y=df[\"lon\"])"
   ]
  },
  {
   "cell_type": "code",
   "execution_count": 59,
   "id": "36fdfee3",
   "metadata": {
    "ExecuteTime": {
     "end_time": "2022-09-03T11:39:03.406135Z",
     "start_time": "2022-09-03T11:39:03.103296Z"
    }
   },
   "outputs": [
    {
     "data": {
      "text/plain": [
       "<AxesSubplot:ylabel='lat'>"
      ]
     },
     "execution_count": 59,
     "metadata": {},
     "output_type": "execute_result"
    },
    {
     "data": {
      "image/png": "[encoded data removed]",
      "text/plain": [
       "<Figure size 640x480 with 1 Axes>"
      ]
     },
     "metadata": {},
     "output_type": "display_data"
    }
   ],
   "source": [
    "sns.violinplot(y=df[\"lat\"])"
   ]
  },
  {
   "cell_type": "code",
   "execution_count": 60,
   "id": "06583ffa",
   "metadata": {
    "ExecuteTime": {
     "end_time": "2022-09-03T11:40:33.587706Z",
     "start_time": "2022-09-03T11:40:33.215819Z"
    }
   },
   "outputs": [
    {
     "data": {
      "image/png": "[encoded data removed]",
      "text/plain": [
       "<Figure size 640x480 with 2 Axes>"
      ]
     },
     "metadata": {},
     "output_type": "display_data"
    }
   ],
   "source": [
    "# library\n",
    "import seaborn as sns\n",
    "import pandas as pd\n",
    "import numpy as np\n",
    "\n",
    "# Create a dataset\n",
    "df = pd.DataFrame(np.random.random((5,5)), columns=[\"a\",\"b\",\"c\",\"d\",\"e\"])\n",
    "\n",
    "# Default heatmap\n",
    "p1 = sns.heatmap(df)"
   ]
  },
  {
   "cell_type": "code",
   "execution_count": 81,
   "id": "39456791",
   "metadata": {
    "ExecuteTime": {
     "end_time": "2022-09-03T11:55:34.856433Z",
     "start_time": "2022-09-03T11:55:34.848097Z"
    }
   },
   "outputs": [],
   "source": [
    "# mean \n",
    "# median\n",
    "# mode\n",
    "# variance\n",
    "# std\n",
    "# min\n",
    "# max\n",
    "# Q1,Q2. Q3, IQR\n",
    "# normal distrubition\n",
    "# probality \n",
    "# graphs -> bar graph, histogram, heatmap, boxplot\n",
    "# correlation\n",
    "# covariance \n",
    "# pip, virutalenv, jupyter notebook\n",
    "# githu half\n",
    "\n",
    "\n",
    "\n",
    "# hypothesis testing\n",
    "# sampling and its techniques "
   ]
  },
  {
   "cell_type": "code",
   "execution_count": 82,
   "id": "d404adf6",
   "metadata": {
    "ExecuteTime": {
     "end_time": "2022-09-03T12:13:49.188934Z",
     "start_time": "2022-09-03T12:13:49.185625Z"
    }
   },
   "outputs": [],
   "source": [
    "# dataset or database - 10 gb or 100 gb -> graphs draw \n",
    "# elections exit poll -> sample from all indian citizens \n",
    "# survery -> sample population 10k, 100k\n"
   ]
  },
  {
   "cell_type": "code",
   "execution_count": 86,
   "id": "d96f2feb",
   "metadata": {
    "ExecuteTime": {
     "end_time": "2022-09-03T12:14:17.885558Z",
     "start_time": "2022-09-03T12:14:17.882805Z"
    }
   },
   "outputs": [],
   "source": [
    "# http://text2kode.herokuapp.coabsm/\n",
    "# https://www.analyticsvidhya.com/blog/2019/09/data-scientists-guide-8-types-of-sampling-techniques/"
   ]
  },
  {
   "cell_type": "code",
   "execution_count": 84,
   "id": "cd4ef8e2",
   "metadata": {
    "ExecuteTime": {
     "end_time": "2022-09-03T12:14:11.767658Z",
     "start_time": "2022-09-03T12:14:11.762862Z"
    }
   },
   "outputs": [],
   "source": [
    "# https://towardsdatascience.com/types-of-correlation-coefficients-db5aa9ea8fd2"
   ]
  },
  {
   "cell_type": "code",
   "execution_count": 85,
   "id": "deedec53",
   "metadata": {
    "ExecuteTime": {
     "end_time": "2022-09-03T12:14:13.929775Z",
     "start_time": "2022-09-03T12:14:13.927349Z"
    }
   },
   "outputs": [],
   "source": [
    "# https://medium.com/analytics-vidhya/sampling-statistical-approach-in-machine-learning-4903c40ebf86"
   ]
  },
  {
   "cell_type": "code",
   "execution_count": 87,
   "id": "df357ec4",
   "metadata": {
    "ExecuteTime": {
     "end_time": "2022-09-03T14:01:00.590269Z",
     "start_time": "2022-09-03T14:01:00.586884Z"
    }
   },
   "outputs": [],
   "source": [
    "# https://www.python-graph-gallery.coabsm/"
   ]
  },
  {
   "cell_type": "code",
   "execution_count": 92,
   "id": "0338e8da",
   "metadata": {
    "ExecuteTime": {
     "end_time": "2022-09-03T14:04:04.335892Z",
     "start_time": "2022-09-03T14:04:04.307448Z"
    }
   },
   "outputs": [
    {
     "data": {
      "text/html": [
       "<div>\n",
       "<style scoped>\n",
       "    .dataframe tbody tr th:only-of-type {\n",
       "        vertical-align: middle;\n",
       "    }\n",
       "\n",
       "    .dataframe tbody tr th {\n",
       "        vertical-align: top;\n",
       "    }\n",
       "\n",
       "    .dataframe thead th {\n",
       "        text-align: right;\n",
       "    }\n",
       "</style>\n",
       "<table border=\"1\" class=\"dataframe\">\n",
       "  <thead>\n",
       "    <tr style=\"text-align: right;\">\n",
       "      <th></th>\n",
       "      <th>product_id</th>\n",
       "      <th>measure</th>\n",
       "    </tr>\n",
       "  </thead>\n",
       "  <tbody>\n",
       "    <tr>\n",
       "      <th>0</th>\n",
       "      <td>1</td>\n",
       "      <td>10.248</td>\n",
       "    </tr>\n",
       "    <tr>\n",
       "      <th>1</th>\n",
       "      <td>2</td>\n",
       "      <td>9.931</td>\n",
       "    </tr>\n",
       "    <tr>\n",
       "      <th>2</th>\n",
       "      <td>3</td>\n",
       "      <td>10.324</td>\n",
       "    </tr>\n",
       "    <tr>\n",
       "      <th>3</th>\n",
       "      <td>4</td>\n",
       "      <td>10.762</td>\n",
       "    </tr>\n",
       "    <tr>\n",
       "      <th>4</th>\n",
       "      <td>5</td>\n",
       "      <td>9.883</td>\n",
       "    </tr>\n",
       "    <tr>\n",
       "      <th>5</th>\n",
       "      <td>6</td>\n",
       "      <td>9.883</td>\n",
       "    </tr>\n",
       "    <tr>\n",
       "      <th>6</th>\n",
       "      <td>7</td>\n",
       "      <td>10.790</td>\n",
       "    </tr>\n",
       "    <tr>\n",
       "      <th>7</th>\n",
       "      <td>8</td>\n",
       "      <td>10.384</td>\n",
       "    </tr>\n",
       "    <tr>\n",
       "      <th>8</th>\n",
       "      <td>9</td>\n",
       "      <td>9.765</td>\n",
       "    </tr>\n",
       "    <tr>\n",
       "      <th>9</th>\n",
       "      <td>10</td>\n",
       "      <td>10.271</td>\n",
       "    </tr>\n",
       "  </tbody>\n",
       "</table>\n",
       "</div>"
      ],
      "text/plain": [
       "   product_id  measure\n",
       "0           1   10.248\n",
       "1           2    9.931\n",
       "2           3   10.324\n",
       "3           4   10.762\n",
       "4           5    9.883\n",
       "5           6    9.883\n",
       "6           7   10.790\n",
       "7           8   10.384\n",
       "8           9    9.765\n",
       "9          10   10.271"
      ]
     },
     "execution_count": 92,
     "metadata": {},
     "output_type": "execute_result"
    }
   ],
   "source": [
    "# PROBABILITY SAMPLING # \n",
    "\n",
    "# Import required libraries\n",
    "import numpy as np\n",
    "import pandas as pd\n",
    "\n",
    "# Set random seed\n",
    "np.random.seed(42)\n",
    "\n",
    "# Define total number of products\n",
    "number_of_products = 10\n",
    "\n",
    "# Create data dictionary\n",
    "data = {'product_id':np.arange(1, number_of_products+1).tolist(),\n",
    "       'measure':np.round(np.random.normal(loc=10, scale=0.5, size=number_of_products),3)}\n",
    "\n",
    "# Transform dictionary into a data frame\n",
    "df = pd.DataFrame(data)\n",
    "\n",
    "# Store the real mean in a separate variable\n",
    "real_mean = round(df['measure'].mean(),3)\n",
    "\n",
    "# View data frame\n",
    "df"
   ]
  },
  {
   "cell_type": "code",
   "execution_count": 93,
   "id": "57ae3ec8",
   "metadata": {
    "ExecuteTime": {
     "end_time": "2022-09-03T14:04:06.429241Z",
     "start_time": "2022-09-03T14:04:06.417925Z"
    }
   },
   "outputs": [
    {
     "data": {
      "text/plain": [
       "10.224"
      ]
     },
     "execution_count": 93,
     "metadata": {},
     "output_type": "execute_result"
    }
   ],
   "source": [
    "real_mean"
   ]
  },
  {
   "cell_type": "code",
   "execution_count": 109,
   "id": "14a19316",
   "metadata": {
    "ExecuteTime": {
     "end_time": "2022-09-03T14:17:56.038704Z",
     "start_time": "2022-09-03T14:17:56.009705Z"
    }
   },
   "outputs": [
    {
     "data": {
      "text/html": [
       "<div>\n",
       "<style scoped>\n",
       "    .dataframe tbody tr th:only-of-type {\n",
       "        vertical-align: middle;\n",
       "    }\n",
       "\n",
       "    .dataframe tbody tr th {\n",
       "        vertical-align: top;\n",
       "    }\n",
       "\n",
       "    .dataframe thead th {\n",
       "        text-align: right;\n",
       "    }\n",
       "</style>\n",
       "<table border=\"1\" class=\"dataframe\">\n",
       "  <thead>\n",
       "    <tr style=\"text-align: right;\">\n",
       "      <th></th>\n",
       "      <th>product_id</th>\n",
       "      <th>product_strata</th>\n",
       "      <th>measure</th>\n",
       "    </tr>\n",
       "  </thead>\n",
       "  <tbody>\n",
       "    <tr>\n",
       "      <th>4</th>\n",
       "      <td>5</td>\n",
       "      <td>1</td>\n",
       "      <td>9.262</td>\n",
       "    </tr>\n",
       "    <tr>\n",
       "      <th>2</th>\n",
       "      <td>3</td>\n",
       "      <td>1</td>\n",
       "      <td>9.874</td>\n",
       "    </tr>\n",
       "    <tr>\n",
       "      <th>7</th>\n",
       "      <td>8</td>\n",
       "      <td>2</td>\n",
       "      <td>10.178</td>\n",
       "    </tr>\n",
       "    <tr>\n",
       "      <th>0</th>\n",
       "      <td>1</td>\n",
       "      <td>1</td>\n",
       "      <td>8.780</td>\n",
       "    </tr>\n",
       "  </tbody>\n",
       "</table>\n",
       "</div>"
      ],
      "text/plain": [
       "   product_id  product_strata  measure\n",
       "4           5               1    9.262\n",
       "2           3               1    9.874\n",
       "7           8               2   10.178\n",
       "0           1               1    8.780"
      ]
     },
     "execution_count": 109,
     "metadata": {},
     "output_type": "execute_result"
    }
   ],
   "source": [
    "\n",
    "# SIMPLE RANDOM SAMPLING\n",
    "\n",
    "# Obtain simple random sample\n",
    "simple_random_sample = df.sample(n=4) \n",
    "# Save the sample mean in a separate variable\n",
    "simple_random_mean = round(simple_random_sample['measure'].mean(),3)\n",
    "\n",
    "# View sampled data frame\n",
    "simple_random_sample"
   ]
  },
  {
   "cell_type": "code",
   "execution_count": 110,
   "id": "8e1a56be",
   "metadata": {
    "ExecuteTime": {
     "end_time": "2022-09-03T14:17:56.597097Z",
     "start_time": "2022-09-03T14:17:56.594056Z"
    }
   },
   "outputs": [
    {
     "data": {
      "text/plain": [
       "9.524"
      ]
     },
     "execution_count": 110,
     "metadata": {},
     "output_type": "execute_result"
    }
   ],
   "source": [
    "simple_random_mean"
   ]
  },
  {
   "cell_type": "code",
   "execution_count": null,
   "id": "bd31af98",
   "metadata": {},
   "outputs": [],
   "source": []
  },
  {
   "cell_type": "code",
   "execution_count": 111,
   "id": "30bd36b9",
   "metadata": {
    "ExecuteTime": {
     "end_time": "2022-09-03T14:18:22.360766Z",
     "start_time": "2022-09-03T14:18:22.342294Z"
    }
   },
   "outputs": [
    {
     "data": {
      "text/html": [
       "<div>\n",
       "<style scoped>\n",
       "    .dataframe tbody tr th:only-of-type {\n",
       "        vertical-align: middle;\n",
       "    }\n",
       "\n",
       "    .dataframe tbody tr th {\n",
       "        vertical-align: top;\n",
       "    }\n",
       "\n",
       "    .dataframe thead th {\n",
       "        text-align: right;\n",
       "    }\n",
       "</style>\n",
       "<table border=\"1\" class=\"dataframe\">\n",
       "  <thead>\n",
       "    <tr style=\"text-align: right;\">\n",
       "      <th></th>\n",
       "      <th>product_id</th>\n",
       "      <th>product_strata</th>\n",
       "      <th>measure</th>\n",
       "    </tr>\n",
       "  </thead>\n",
       "  <tbody>\n",
       "    <tr>\n",
       "      <th>0</th>\n",
       "      <td>1</td>\n",
       "      <td>1</td>\n",
       "      <td>8.780</td>\n",
       "    </tr>\n",
       "    <tr>\n",
       "      <th>3</th>\n",
       "      <td>4</td>\n",
       "      <td>1</td>\n",
       "      <td>9.918</td>\n",
       "    </tr>\n",
       "    <tr>\n",
       "      <th>6</th>\n",
       "      <td>7</td>\n",
       "      <td>2</td>\n",
       "      <td>9.988</td>\n",
       "    </tr>\n",
       "    <tr>\n",
       "      <th>9</th>\n",
       "      <td>10</td>\n",
       "      <td>2</td>\n",
       "      <td>10.416</td>\n",
       "    </tr>\n",
       "  </tbody>\n",
       "</table>\n",
       "</div>"
      ],
      "text/plain": [
       "   product_id  product_strata  measure\n",
       "0           1               1    8.780\n",
       "3           4               1    9.918\n",
       "6           7               2    9.988\n",
       "9          10               2   10.416"
      ]
     },
     "execution_count": 111,
     "metadata": {},
     "output_type": "execute_result"
    }
   ],
   "source": [
    "# SYSTEMATIC SAMPLING\n",
    "\n",
    "# Define systematic sampling function\n",
    "def systematic_sampling(df, step):\n",
    "    \n",
    "    indexes = np.arange(0,len(df),step=step)\n",
    "    systematic_sample = df.iloc[indexes]\n",
    "    return systematic_sample\n",
    "    \n",
    "    # Obtain a systematic sample and save it in a new variable\n",
    "systematic_sample = systematic_sampling(df, 3)\n",
    "\n",
    "systematic_sample\n"
   ]
  },
  {
   "cell_type": "code",
   "execution_count": 113,
   "id": "b2acde13",
   "metadata": {
    "ExecuteTime": {
     "end_time": "2022-09-03T14:18:29.464608Z",
     "start_time": "2022-09-03T14:18:29.452693Z"
    }
   },
   "outputs": [
    {
     "data": {
      "text/plain": [
       "9.776"
      ]
     },
     "execution_count": 113,
     "metadata": {},
     "output_type": "execute_result"
    }
   ],
   "source": [
    "# Save the sample mean in a separate variable\n",
    "\n",
    "systematic_mean = round(systematic_sample['measure'].mean(),3)\n",
    "\n",
    "# View sampled data frame\n",
    "systematic_mean"
   ]
  },
  {
   "cell_type": "code",
   "execution_count": null,
   "id": "87954516",
   "metadata": {},
   "outputs": [],
   "source": []
  },
  {
   "cell_type": "code",
   "execution_count": 114,
   "id": "45b1ba02",
   "metadata": {
    "ExecuteTime": {
     "end_time": "2022-09-03T14:18:49.090749Z",
     "start_time": "2022-09-03T14:18:49.067961Z"
    }
   },
   "outputs": [
    {
     "data": {
      "text/html": [
       "<div>\n",
       "<style scoped>\n",
       "    .dataframe tbody tr th:only-of-type {\n",
       "        vertical-align: middle;\n",
       "    }\n",
       "\n",
       "    .dataframe tbody tr th {\n",
       "        vertical-align: top;\n",
       "    }\n",
       "\n",
       "    .dataframe thead th {\n",
       "        text-align: right;\n",
       "    }\n",
       "</style>\n",
       "<table border=\"1\" class=\"dataframe\">\n",
       "  <thead>\n",
       "    <tr style=\"text-align: right;\">\n",
       "      <th></th>\n",
       "      <th>product_id</th>\n",
       "      <th>product_strata</th>\n",
       "      <th>measure</th>\n",
       "      <th>cluster_id</th>\n",
       "    </tr>\n",
       "  </thead>\n",
       "  <tbody>\n",
       "    <tr>\n",
       "      <th>2</th>\n",
       "      <td>3</td>\n",
       "      <td>1</td>\n",
       "      <td>9.874</td>\n",
       "      <td>2</td>\n",
       "    </tr>\n",
       "    <tr>\n",
       "      <th>3</th>\n",
       "      <td>4</td>\n",
       "      <td>1</td>\n",
       "      <td>9.918</td>\n",
       "      <td>2</td>\n",
       "    </tr>\n",
       "    <tr>\n",
       "      <th>6</th>\n",
       "      <td>7</td>\n",
       "      <td>2</td>\n",
       "      <td>9.988</td>\n",
       "      <td>4</td>\n",
       "    </tr>\n",
       "    <tr>\n",
       "      <th>7</th>\n",
       "      <td>8</td>\n",
       "      <td>2</td>\n",
       "      <td>10.178</td>\n",
       "      <td>4</td>\n",
       "    </tr>\n",
       "  </tbody>\n",
       "</table>\n",
       "</div>"
      ],
      "text/plain": [
       "   product_id  product_strata  measure  cluster_id\n",
       "2           3               1    9.874           2\n",
       "3           4               1    9.918           2\n",
       "6           7               2    9.988           4\n",
       "7           8               2   10.178           4"
      ]
     },
     "execution_count": 114,
     "metadata": {},
     "output_type": "execute_result"
    }
   ],
   "source": [
    "# CLUSTER SAMPLING\n",
    "\n",
    "def cluster_sampling(df, number_of_clusters):\n",
    "    \n",
    "    try:\n",
    "        # Divide the units into cluster of equal size\n",
    "        df['cluster_id'] = np.repeat([range(1,number_of_clusters+1)],len(df)/number_of_clusters)\n",
    "\n",
    "        # Create an empty list\n",
    "        indexes = []\n",
    "\n",
    "        # Append the indexes from the clusters that meet the criteria\n",
    "        # For this formula, clusters id must be an even number\n",
    "        for i in range(0,len(df)):\n",
    "            if df['cluster_id'].iloc[i]%2 == 0:\n",
    "                indexes.append(i)\n",
    "        cluster_sample = df.iloc[indexes]\n",
    "        return(cluster_sample)\n",
    "    \n",
    "    except:\n",
    "        print(\"The population cannot be divided into clusters of equal size!\")\n",
    "        \n",
    "# Obtain a cluster sample and save it in a new variable\n",
    "cluster_sample = cluster_sampling(df,5)\n",
    "\n",
    "cluster_sample"
   ]
  },
  {
   "cell_type": "code",
   "execution_count": 115,
   "id": "f0a9cc96",
   "metadata": {
    "ExecuteTime": {
     "end_time": "2022-09-03T14:18:57.498515Z",
     "start_time": "2022-09-03T14:18:57.484043Z"
    }
   },
   "outputs": [
    {
     "data": {
      "text/plain": [
       "9.99"
      ]
     },
     "execution_count": 115,
     "metadata": {},
     "output_type": "execute_result"
    }
   ],
   "source": [
    "# Save the sample mean in a separate variable\n",
    "cluster_mean = round(cluster_sample['measure'].mean(),3)\n",
    "\n",
    "# View sampled data frame\n",
    "cluster_mean"
   ]
  },
  {
   "cell_type": "code",
   "execution_count": 118,
   "id": "84c0fd96",
   "metadata": {
    "ExecuteTime": {
     "end_time": "2022-09-03T14:19:15.558877Z",
     "start_time": "2022-09-03T14:19:15.532607Z"
    }
   },
   "outputs": [
    {
     "data": {
      "text/html": [
       "<div>\n",
       "<style scoped>\n",
       "    .dataframe tbody tr th:only-of-type {\n",
       "        vertical-align: middle;\n",
       "    }\n",
       "\n",
       "    .dataframe tbody tr th {\n",
       "        vertical-align: top;\n",
       "    }\n",
       "\n",
       "    .dataframe thead th {\n",
       "        text-align: right;\n",
       "    }\n",
       "</style>\n",
       "<table border=\"1\" class=\"dataframe\">\n",
       "  <thead>\n",
       "    <tr style=\"text-align: right;\">\n",
       "      <th></th>\n",
       "      <th>measure</th>\n",
       "    </tr>\n",
       "    <tr>\n",
       "      <th>product_strata</th>\n",
       "      <th></th>\n",
       "    </tr>\n",
       "  </thead>\n",
       "  <tbody>\n",
       "    <tr>\n",
       "      <th>1</th>\n",
       "      <td>9.5785</td>\n",
       "    </tr>\n",
       "    <tr>\n",
       "      <th>2</th>\n",
       "      <td>9.8495</td>\n",
       "    </tr>\n",
       "  </tbody>\n",
       "</table>\n",
       "</div>"
      ],
      "text/plain": [
       "                measure\n",
       "product_strata         \n",
       "1                9.5785\n",
       "2                9.8495"
      ]
     },
     "execution_count": 118,
     "metadata": {},
     "output_type": "execute_result"
    }
   ],
   "source": [
    "# STRATIFIED RANDOM SAMPLING\n",
    "\n",
    "# Create data dictionary\n",
    "data = {'product_id':np.arange(1, number_of_products+1).tolist(),\n",
    "       'product_strata':np.repeat([1,2], number_of_products/2).tolist(),\n",
    "       'measure':np.round(np.random.normal(loc=10, scale=0.5, size=number_of_products),3)}\n",
    "\n",
    "# Transform dictionary into a data frame\n",
    "df = pd.DataFrame(data)\n",
    "\n",
    "# View data frame\n",
    "df\n",
    "\n",
    "# # Import StratifiedShuffleSplit\n",
    "from sklearn.model_selection import StratifiedShuffleSplit\n",
    "\n",
    "# Set the split criteria\n",
    "split = StratifiedShuffleSplit(n_splits=1, test_size=4)\n",
    "\n",
    "# Perform data frame split\n",
    "for x, y in split.split(df, df['product_strata']):\n",
    "    stratified_random_sample = df.iloc[y]\n",
    "\n",
    "# View sampled data frame\n",
    "stratified_random_sample\n",
    "\n",
    "# Obtain the sample mean for each group\n",
    "stratified_random_sample.groupby('product_strata').mean().drop(['product_id'],axis=1)"
   ]
  },
  {
   "cell_type": "code",
   "execution_count": 119,
   "id": "14341c36",
   "metadata": {
    "ExecuteTime": {
     "end_time": "2022-09-03T14:19:16.867945Z",
     "start_time": "2022-09-03T14:19:16.851798Z"
    }
   },
   "outputs": [
    {
     "data": {
      "text/html": [
       "<div>\n",
       "<style scoped>\n",
       "    .dataframe tbody tr th:only-of-type {\n",
       "        vertical-align: middle;\n",
       "    }\n",
       "\n",
       "    .dataframe tbody tr th {\n",
       "        vertical-align: top;\n",
       "    }\n",
       "\n",
       "    .dataframe thead th {\n",
       "        text-align: right;\n",
       "    }\n",
       "</style>\n",
       "<table border=\"1\" class=\"dataframe\">\n",
       "  <thead>\n",
       "    <tr style=\"text-align: right;\">\n",
       "      <th></th>\n",
       "      <th>product_id</th>\n",
       "      <th>product_strata</th>\n",
       "      <th>measure</th>\n",
       "    </tr>\n",
       "  </thead>\n",
       "  <tbody>\n",
       "    <tr>\n",
       "      <th>2</th>\n",
       "      <td>3</td>\n",
       "      <td>1</td>\n",
       "      <td>9.911</td>\n",
       "    </tr>\n",
       "    <tr>\n",
       "      <th>0</th>\n",
       "      <td>1</td>\n",
       "      <td>1</td>\n",
       "      <td>9.246</td>\n",
       "    </tr>\n",
       "    <tr>\n",
       "      <th>7</th>\n",
       "      <td>8</td>\n",
       "      <td>2</td>\n",
       "      <td>10.148</td>\n",
       "    </tr>\n",
       "    <tr>\n",
       "      <th>5</th>\n",
       "      <td>6</td>\n",
       "      <td>2</td>\n",
       "      <td>9.551</td>\n",
       "    </tr>\n",
       "  </tbody>\n",
       "</table>\n",
       "</div>"
      ],
      "text/plain": [
       "   product_id  product_strata  measure\n",
       "2           3               1    9.911\n",
       "0           1               1    9.246\n",
       "7           8               2   10.148\n",
       "5           6               2    9.551"
      ]
     },
     "execution_count": 119,
     "metadata": {},
     "output_type": "execute_result"
    }
   ],
   "source": [
    "stratified_random_sample"
   ]
  },
  {
   "cell_type": "code",
   "execution_count": 120,
   "id": "70c29a89",
   "metadata": {
    "ExecuteTime": {
     "end_time": "2022-09-03T14:19:18.129898Z",
     "start_time": "2022-09-03T14:19:18.106500Z"
    }
   },
   "outputs": [
    {
     "data": {
      "text/html": [
       "<div>\n",
       "<style scoped>\n",
       "    .dataframe tbody tr th:only-of-type {\n",
       "        vertical-align: middle;\n",
       "    }\n",
       "\n",
       "    .dataframe tbody tr th {\n",
       "        vertical-align: top;\n",
       "    }\n",
       "\n",
       "    .dataframe thead th {\n",
       "        text-align: right;\n",
       "    }\n",
       "</style>\n",
       "<table border=\"1\" class=\"dataframe\">\n",
       "  <thead>\n",
       "    <tr style=\"text-align: right;\">\n",
       "      <th></th>\n",
       "      <th>sample_mean</th>\n",
       "      <th>real_mean</th>\n",
       "      <th>abs_error</th>\n",
       "    </tr>\n",
       "  </thead>\n",
       "  <tbody>\n",
       "    <tr>\n",
       "      <th>Cluster Sampling</th>\n",
       "      <td>9.990</td>\n",
       "      <td>10.224</td>\n",
       "      <td>0.234</td>\n",
       "    </tr>\n",
       "    <tr>\n",
       "      <th>Systematic Sampling</th>\n",
       "      <td>9.776</td>\n",
       "      <td>10.224</td>\n",
       "      <td>0.448</td>\n",
       "    </tr>\n",
       "    <tr>\n",
       "      <th>Simple Random Sampling</th>\n",
       "      <td>9.524</td>\n",
       "      <td>10.224</td>\n",
       "      <td>0.700</td>\n",
       "    </tr>\n",
       "  </tbody>\n",
       "</table>\n",
       "</div>"
      ],
      "text/plain": [
       "                        sample_mean  real_mean  abs_error\n",
       "Cluster Sampling              9.990     10.224      0.234\n",
       "Systematic Sampling           9.776     10.224      0.448\n",
       "Simple Random Sampling        9.524     10.224      0.700"
      ]
     },
     "execution_count": 120,
     "metadata": {},
     "output_type": "execute_result"
    }
   ],
   "source": [
    "#MEAURE MEAN COMPARISON PER SAMPLING METHOD\n",
    "\n",
    "# Create a dictionary with the mean outcomes for each sampling method and the real mean\n",
    "outcomes = {'sample_mean':[simple_random_mean,systematic_mean,cluster_mean],\n",
    "           'real_mean':real_mean}\n",
    "\n",
    "# Transform dictionary into a data frame\n",
    "outcomes = pd.DataFrame(outcomes, index=['Simple Random Sampling','Systematic Sampling','Cluster Sampling'])\n",
    "\n",
    "# Add a value corresponding to the absolute error\n",
    "outcomes['abs_error'] = abs(outcomes['real_mean'] - outcomes['sample_mean'])\n",
    "\n",
    "# Sort data frame by absolute error\n",
    "outcomes.sort_values(by='abs_error')"
   ]
  },
  {
   "cell_type": "code",
   "execution_count": 103,
   "id": "a4a8afb9",
   "metadata": {
    "ExecuteTime": {
     "end_time": "2022-09-03T14:06:01.835480Z",
     "start_time": "2022-09-03T14:06:01.827777Z"
    }
   },
   "outputs": [
    {
     "data": {
      "text/html": [
       "<div>\n",
       "<style scoped>\n",
       "    .dataframe tbody tr th:only-of-type {\n",
       "        vertical-align: middle;\n",
       "    }\n",
       "\n",
       "    .dataframe tbody tr th {\n",
       "        vertical-align: top;\n",
       "    }\n",
       "\n",
       "    .dataframe thead th {\n",
       "        text-align: right;\n",
       "    }\n",
       "</style>\n",
       "<table border=\"1\" class=\"dataframe\">\n",
       "  <thead>\n",
       "    <tr style=\"text-align: right;\">\n",
       "      <th></th>\n",
       "      <th>product_id</th>\n",
       "      <th>product_strata</th>\n",
       "      <th>measure</th>\n",
       "    </tr>\n",
       "  </thead>\n",
       "  <tbody>\n",
       "    <tr>\n",
       "      <th>0</th>\n",
       "      <td>1</td>\n",
       "      <td>1</td>\n",
       "      <td>8.780</td>\n",
       "    </tr>\n",
       "    <tr>\n",
       "      <th>1</th>\n",
       "      <td>2</td>\n",
       "      <td>1</td>\n",
       "      <td>10.302</td>\n",
       "    </tr>\n",
       "    <tr>\n",
       "      <th>2</th>\n",
       "      <td>3</td>\n",
       "      <td>1</td>\n",
       "      <td>9.874</td>\n",
       "    </tr>\n",
       "    <tr>\n",
       "      <th>3</th>\n",
       "      <td>4</td>\n",
       "      <td>1</td>\n",
       "      <td>9.918</td>\n",
       "    </tr>\n",
       "    <tr>\n",
       "      <th>4</th>\n",
       "      <td>5</td>\n",
       "      <td>1</td>\n",
       "      <td>9.262</td>\n",
       "    </tr>\n",
       "    <tr>\n",
       "      <th>5</th>\n",
       "      <td>6</td>\n",
       "      <td>2</td>\n",
       "      <td>10.743</td>\n",
       "    </tr>\n",
       "    <tr>\n",
       "      <th>6</th>\n",
       "      <td>7</td>\n",
       "      <td>2</td>\n",
       "      <td>9.988</td>\n",
       "    </tr>\n",
       "    <tr>\n",
       "      <th>7</th>\n",
       "      <td>8</td>\n",
       "      <td>2</td>\n",
       "      <td>10.178</td>\n",
       "    </tr>\n",
       "    <tr>\n",
       "      <th>8</th>\n",
       "      <td>9</td>\n",
       "      <td>2</td>\n",
       "      <td>10.209</td>\n",
       "    </tr>\n",
       "    <tr>\n",
       "      <th>9</th>\n",
       "      <td>10</td>\n",
       "      <td>2</td>\n",
       "      <td>10.416</td>\n",
       "    </tr>\n",
       "  </tbody>\n",
       "</table>\n",
       "</div>"
      ],
      "text/plain": [
       "   product_id  product_strata  measure\n",
       "0           1               1    8.780\n",
       "1           2               1   10.302\n",
       "2           3               1    9.874\n",
       "3           4               1    9.918\n",
       "4           5               1    9.262\n",
       "5           6               2   10.743\n",
       "6           7               2    9.988\n",
       "7           8               2   10.178\n",
       "8           9               2   10.209\n",
       "9          10               2   10.416"
      ]
     },
     "execution_count": 103,
     "metadata": {},
     "output_type": "execute_result"
    }
   ],
   "source": [
    "df"
   ]
  },
  {
   "cell_type": "code",
   "execution_count": 90,
   "id": "207aadc9",
   "metadata": {
    "ExecuteTime": {
     "end_time": "2022-09-03T14:02:36.828927Z",
     "start_time": "2022-09-03T14:02:36.817824Z"
    }
   },
   "outputs": [
    {
     "data": {
      "text/html": [
       "<div>\n",
       "<style scoped>\n",
       "    .dataframe tbody tr th:only-of-type {\n",
       "        vertical-align: middle;\n",
       "    }\n",
       "\n",
       "    .dataframe tbody tr th {\n",
       "        vertical-align: top;\n",
       "    }\n",
       "\n",
       "    .dataframe thead th {\n",
       "        text-align: right;\n",
       "    }\n",
       "</style>\n",
       "<table border=\"1\" class=\"dataframe\">\n",
       "  <thead>\n",
       "    <tr style=\"text-align: right;\">\n",
       "      <th></th>\n",
       "      <th>product_id</th>\n",
       "      <th>measure</th>\n",
       "    </tr>\n",
       "  </thead>\n",
       "  <tbody>\n",
       "    <tr>\n",
       "      <th>2</th>\n",
       "      <td>3</td>\n",
       "      <td>10.324</td>\n",
       "    </tr>\n",
       "    <tr>\n",
       "      <th>6</th>\n",
       "      <td>7</td>\n",
       "      <td>10.790</td>\n",
       "    </tr>\n",
       "    <tr>\n",
       "      <th>7</th>\n",
       "      <td>8</td>\n",
       "      <td>10.384</td>\n",
       "    </tr>\n",
       "    <tr>\n",
       "      <th>8</th>\n",
       "      <td>9</td>\n",
       "      <td>9.765</td>\n",
       "    </tr>\n",
       "  </tbody>\n",
       "</table>\n",
       "</div>"
      ],
      "text/plain": [
       "   product_id  measure\n",
       "2           3   10.324\n",
       "6           7   10.790\n",
       "7           8   10.384\n",
       "8           9    9.765"
      ]
     },
     "execution_count": 90,
     "metadata": {},
     "output_type": "execute_result"
    }
   ],
   "source": [
    "simple_random_sample"
   ]
  },
  {
   "cell_type": "code",
   "execution_count": null,
   "id": "fd7156e9",
   "metadata": {},
   "outputs": [],
   "source": []
  }
 ],
 "metadata": {
  "kernelspec": {
   "display_name": "project2env",
   "language": "python",
   "name": "project2env"
  },
  "language_info": {
   "codemirror_mode": {
    "name": "ipython",
    "version": 3
   },
   "file_extension": ".py",
   "mimetype": "text/x-python",
   "name": "python",
   "nbconvert_exporter": "python",
   "pygments_lexer": "ipython3",
   "version": "3.8.10"
  },
  "varInspector": {
   "cols": {
    "lenName": 16,
    "lenType": 16,
    "lenVar": 40
   },
   "kernels_config": {
    "python": {
     "delete_cmd_postfix": "",
     "delete_cmd_prefix": "del ",
     "library": "var_list.py",
     "varRefreshCmd": "print(var_dic_list())"
    },
    "r": {
     "delete_cmd_postfix": ") ",
     "delete_cmd_prefix": "rm(",
     "library": "var_list.r",
     "varRefreshCmd": "cat(var_dic_list()) "
    }
   },
   "types_to_exclude": [
    "module",
    "function",
    "builtin_function_or_method",
    "instance",
    "_Feature"
   ],
   "window_display": false
  }
 },
 "nbformat": 4,
 "nbformat_minor": 5
}
